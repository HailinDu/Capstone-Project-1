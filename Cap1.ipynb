{
 "cells": [
  {
   "cell_type": "code",
   "execution_count": 1,
   "metadata": {},
   "outputs": [],
   "source": [
    "from pymongo import MongoClient\n",
    "import pprint\n",
    "\n",
    "import pandas as pd\n",
    "import matplotlib.pyplot as plt\n",
    "plt.style.use('fivethirtyeight')\n",
    "\n",
    "# Requests sends and recieves HTTP requests.\n",
    "import requests\n",
    "\n",
    "# Beautiful Soup parses HTML documents in python.\n",
    "from bs4 import BeautifulSoup\n",
    "\n",
    "import json\n",
    "import time"
   ]
  },
  {
   "cell_type": "code",
   "execution_count": 2,
   "metadata": {},
   "outputs": [],
   "source": [
    "client = MongoClient('localhost', 27017)"
   ]
  },
  {
   "cell_type": "code",
   "execution_count": 4,
   "metadata": {},
   "outputs": [
    {
     "data": {
      "text/plain": [
       "200"
      ]
     },
     "execution_count": 4,
     "metadata": {},
     "output_type": "execute_result"
    }
   ],
   "source": [
    "api_url = 'https://www.goodreads.com/search?page=1&q=Computer+Science&qid=iHFbTUVsHL&search_type=books&tab=books&utf8=%E2%9C%93'\n",
    "r = requests.get(api_url)\n",
    "r.status_code"
   ]
  },
  {
   "cell_type": "code",
   "execution_count": 5,
   "metadata": {},
   "outputs": [
    {
     "name": "stdout",
     "output_type": "stream",
     "text": [
      "('<!DOCTYPE html>\\n'\n",
      " '<html class=\"desktop\\n'\n",
      " '\">\\n'\n",
      " '<head>\\n'\n",
      " '  <title>Search results for &quot;Computer Science&quot; (showing 1-20 of '\n",
      " '8772 books)</title>\\n'\n",
      " '\\n'\n",
      " \"<meta content='Search results for Computer Science: , , , , , , , , , , , , \"\n",
      " \", , , , , , , and ' name='description'>\\n\"\n",
      " \"<meta content='telephone=no' name='format-detection'>\\n\"\n",
      " \"<meta content='noindex' name='robots'>\\n\"\n",
      " '\\n'\n",
      " '\\n'\n",
      " '\\n'\n",
      " '    <script type=\"text/javascript\"> var ue_t0=window.ue_t0||+new Date();\\n'\n",
      " ' </script>\\n'\n",
      " '  <script type=\"text/javascript\">\\n'\n",
      " '    var ue_mid = \"A1PQBFHBHS6YH1\";\\n'\n",
      " '    var ue_sn = \"www.goodreads.com\";\\n'\n",
      " '    var ue_furl = \"fls-na.amazon.com\";\\n'\n",
      " '    var ue_sid = \"710-4448579-1396217\";\\n'\n",
      " '    var ue_id = \"VY05K88AK1T9Y4BH6X4N\";\\n'\n",
      " '\\n'\n",
      " '    (function(e){var c=e;var '\n",
      " 'a=c.ue||{};a.main_scope=\"mainscopecsm\";a.q=[];a.t0=c.ue_t0||+new '\n",
      " 'Date();a.d=g;function g(h){return +new Date()-(h?0:a.t0)}function '\n",
      " 'd(h){return function(){a.q.push({n:h,a:arguments,t:a.d()})}}function '\n",
      " 'b(m,l,h,j,i){var '\n",
      " 'k={m:m,f:l,l:h,c:\"\"+j,err:i,fromOnError:1,args:arguments};c.ueLogError(k);return '\n",
      " 'false}b.s')\n"
     ]
    }
   ],
   "source": [
    "import pprint\n",
    "pprint.pprint(r.text[:1000])"
   ]
  },
  {
   "cell_type": "code",
   "execution_count": null,
   "metadata": {},
   "outputs": [],
   "source": [
    "soup = BeautifulSoup(r.text, 'html.parser')"
   ]
  },
  {
   "cell_type": "code",
   "execution_count": null,
   "metadata": {},
   "outputs": [],
   "source": [
    "soup.select('table tr')[0]"
   ]
  },
  {
   "cell_type": "code",
   "execution_count": null,
   "metadata": {},
   "outputs": [],
   "source": [
    "x = soup.find('table').find_all('tr')[17]"
   ]
  },
  {
   "cell_type": "code",
   "execution_count": null,
   "metadata": {
    "scrolled": true
   },
   "outputs": [],
   "source": [
    "x"
   ]
  },
  {
   "cell_type": "code",
   "execution_count": null,
   "metadata": {},
   "outputs": [],
   "source": [
    "# author\n",
    "x.find('a',{'class':'authorName'}).span.text"
   ]
  },
  {
   "cell_type": "code",
   "execution_count": null,
   "metadata": {},
   "outputs": [],
   "source": [
    "# title\n",
    "x.find('a',{'class':'bookTitle'}).span.text"
   ]
  },
  {
   "cell_type": "code",
   "execution_count": null,
   "metadata": {},
   "outputs": [],
   "source": [
    "# average rating and rating counts\n",
    "x.find('span',{'class':'greyText smallText uitext'}).span.text.strip()"
   ]
  },
  {
   "cell_type": "code",
   "execution_count": null,
   "metadata": {},
   "outputs": [],
   "source": [
    "# edition\n",
    "x.find('a',{'class':'greyText'}).text"
   ]
  },
  {
   "cell_type": "code",
   "execution_count": null,
   "metadata": {},
   "outputs": [],
   "source": [
    "x.find('a','bookTitle')"
   ]
  },
  {
   "cell_type": "code",
   "execution_count": null,
   "metadata": {},
   "outputs": [],
   "source": [
    "# \n",
    "get_url = x.find('a',{'class':'bookTitle'})\n",
    "url = get_url.get('href')\n",
    "'https://www.goodreads.com{}'.format(url)"
   ]
  },
  {
   "cell_type": "code",
   "execution_count": null,
   "metadata": {},
   "outputs": [],
   "source": [
    "# average rating, total rating, publish year, edition\n",
    "y = x.find('span',{'class':'greyText smallText uitext'}).text.replace('\\n','')\n",
    "y = ' '.join(y.split())\n",
    "y = y.split(' — ')"
   ]
  },
  {
   "cell_type": "code",
   "execution_count": null,
   "metadata": {},
   "outputs": [],
   "source": [
    "y[2]"
   ]
  },
  {
   "cell_type": "code",
   "execution_count": null,
   "metadata": {},
   "outputs": [],
   "source": [
    "soup.find('table').find_all('tr')[17].text"
   ]
  },
  {
   "cell_type": "code",
   "execution_count": null,
   "metadata": {},
   "outputs": [],
   "source": [
    "columns = {'book_title':None,\n",
    "           'author_name':None,\n",
    "           'avg_rating':None,\n",
    "           'rating_count':None,\n",
    "           'publish year':None,\n",
    "           'edition':None,\n",
    "           'link':None}"
   ]
  },
  {
   "cell_type": "code",
   "execution_count": null,
   "metadata": {},
   "outputs": [],
   "source": [
    "soup.find('table').find_all('tr')"
   ]
  },
  {
   "cell_type": "code",
   "execution_count": null,
   "metadata": {},
   "outputs": [],
   "source": [
    "for x in soup.find('table').find_all('tr'):\n",
    "    print(x)\n",
    "    break"
   ]
  },
  {
   "cell_type": "code",
   "execution_count": null,
   "metadata": {
    "scrolled": true
   },
   "outputs": [],
   "source": [
    "data = []\n",
    "#for i in range(len(soup.find('table').find_all('tr'))):\n",
    "for x in soup.find('table').find_all('tr'):\n",
    "    columns = {}\n",
    "    \n",
    "    columns['book_title'] = x.find('a',{'class':'bookTitle'}).span.text\n",
    "    columns['author_name'] = x.find('a',{'class':'authorName'}).span.text\n",
    "    \n",
    "    y = x.find('span',{'class':'greyText smallText uitext'}).text.replace('\\n','')\n",
    "    y = ' '.join(y.split())\n",
    "    y = y.split(' — ')\n",
    "    \n",
    "    if len(y) == 4:\n",
    "        columns['avg_rating'] = y[0]\n",
    "        columns['rating_count'] = y[1]\n",
    "        columns['publish year'] = y[2]\n",
    "        columns['edition'] = y[3]\n",
    "    else:\n",
    "        columns['avg_rating'] = y[0]\n",
    "        columns['rating_count'] = y[1]\n",
    "        columns['publish year'] = None\n",
    "        columns['edition'] = y[2]\n",
    "          \n",
    "    get_url = x.find('a',{'class':'bookTitle'})\n",
    "    url = get_url.get('href')\n",
    "    columns['link'] = 'https://www.goodreads.com{}'.format(url)\n",
    "    \n",
    "    print(columns)\n",
    "    data.append(columns)"
   ]
  },
  {
   "cell_type": "code",
   "execution_count": null,
   "metadata": {
    "scrolled": true
   },
   "outputs": [],
   "source": [
    "data"
   ]
  },
  {
   "cell_type": "code",
   "execution_count": 87,
   "metadata": {},
   "outputs": [],
   "source": [
    "db = client['book']\n",
    "book_info = db['book_info']"
   ]
  },
  {
   "cell_type": "code",
   "execution_count": null,
   "metadata": {},
   "outputs": [],
   "source": [
    "# book_info.collection.insertMany(data)"
   ]
  },
  {
   "cell_type": "code",
   "execution_count": null,
   "metadata": {},
   "outputs": [],
   "source": [
    "for x in book_info.find({},{'_id':False}):\n",
    "    print(x['link'])"
   ]
  },
  {
   "cell_type": "code",
   "execution_count": null,
   "metadata": {
    "scrolled": true
   },
   "outputs": [],
   "source": [
    "data = []\n",
    "for i in range(1, 101):\n",
    "    api_url = 'https://www.goodreads.com/search?page={}&q=Computer+Science&qid=iHFbTUVsHL&search_type=books&tab=books&utf8=%E2%9C%93'.format(i)\n",
    "    r = requests.get(api_url)\n",
    "    soup = BeautifulSoup(r.text, 'html.parser')\n",
    "    \n",
    "    time.sleep(1)\n",
    "    \n",
    "    for x in soup.find('table').find_all('tr'):\n",
    "        columns = {}\n",
    "\n",
    "        columns['book_title'] = x.find('a',{'class':'bookTitle'}).span.text\n",
    "        columns['author_name'] = x.find('a',{'class':'authorName'}).span.text\n",
    "\n",
    "        y = x.find('span',{'class':'greyText smallText uitext'}).text.replace('\\n','')\n",
    "        y = ' '.join(y.split())\n",
    "        y = y.split(' — ')\n",
    "\n",
    "        if len(y) == 4:\n",
    "            columns['avg_rating'] = y[0]\n",
    "            columns['rating_count'] = y[1]\n",
    "            columns['publish year'] = y[2]\n",
    "            columns['edition'] = y[3]\n",
    "        else:\n",
    "            columns['avg_rating'] = y[0]\n",
    "            columns['rating_count'] = y[1]\n",
    "            columns['publish year'] = None\n",
    "            columns['edition'] = y[2]\n",
    "\n",
    "        get_url = x.find('a',{'class':'bookTitle'})\n",
    "        url = get_url.get('href')\n",
    "        columns['link'] = 'https://www.goodreads.com{}'.format(url)\n",
    "\n",
    "        print(columns)\n",
    "        data.append(columns)\n",
    "    "
   ]
  },
  {
   "cell_type": "code",
   "execution_count": null,
   "metadata": {},
   "outputs": [],
   "source": [
    "len(data)"
   ]
  },
  {
   "cell_type": "code",
   "execution_count": null,
   "metadata": {},
   "outputs": [],
   "source": [
    "print(data[0:10])"
   ]
  },
  {
   "cell_type": "code",
   "execution_count": null,
   "metadata": {},
   "outputs": [],
   "source": [
    "new_data = pd.DataFrame(data)\n",
    "new_data.head()"
   ]
  },
  {
   "cell_type": "code",
   "execution_count": null,
   "metadata": {},
   "outputs": [],
   "source": [
    "db = client['book']\n",
    "book_info = db['book_info']"
   ]
  },
  {
   "cell_type": "code",
   "execution_count": null,
   "metadata": {},
   "outputs": [],
   "source": [
    "book_info.insert_many(data)"
   ]
  },
  {
   "cell_type": "code",
   "execution_count": null,
   "metadata": {},
   "outputs": [],
   "source": [
    "book_info.count()"
   ]
  },
  {
   "cell_type": "code",
   "execution_count": null,
   "metadata": {},
   "outputs": [],
   "source": [
    "for x in book_info.find({},{'_id':False}):\n",
    "    print(x['link'])"
   ]
  },
  {
   "cell_type": "code",
   "execution_count": 138,
   "metadata": {},
   "outputs": [
    {
     "data": {
      "text/plain": [
       "200"
      ]
     },
     "execution_count": 138,
     "metadata": {},
     "output_type": "execute_result"
    }
   ],
   "source": [
    "api_url = 'https://www.goodreads.com/book/show/26848002-computer-science-with-c-for-class-xi?from_search=true&from_srp=true&rank=6'\n",
    "r = requests.get(api_url)\n",
    "r.status_code"
   ]
  },
  {
   "cell_type": "code",
   "execution_count": 139,
   "metadata": {},
   "outputs": [],
   "source": [
    "soup = BeautifulSoup(r.text, 'html.parser')"
   ]
  },
  {
   "cell_type": "code",
   "execution_count": 140,
   "metadata": {},
   "outputs": [
    {
     "data": {
      "text/plain": [
       "'Computer Science with C++ for Class XI'"
      ]
     },
     "execution_count": 140,
     "metadata": {},
     "output_type": "execute_result"
    }
   ],
   "source": [
    "# title\n",
    "soup.find('h1',{'class':'gr-h1 gr-h1--serif'}).text.strip()"
   ]
  },
  {
   "cell_type": "code",
   "execution_count": 141,
   "metadata": {},
   "outputs": [
    {
     "name": "stdout",
     "output_type": "stream",
     "text": [
      "Sumita Arora\n"
     ]
    }
   ],
   "source": [
    "for x in soup.find_all('div',{'class':'authorName__container'}):\n",
    "    print(x.find('a',{'class':\"authorName\"}).span.text)"
   ]
  },
  {
   "cell_type": "code",
   "execution_count": 142,
   "metadata": {},
   "outputs": [],
   "source": [
    "# maybe more than 1 author\n",
    "if len(soup.find_all('div',{'class':'authorName__container'})) >= 2:\n",
    "    second_columns['author_name'] = []\n",
    "    for x in soup.find_all('div',{'class':'authorName__container'}):\n",
    "        second_columns['author_name'].append(x.find('a',{'class':\"authorName\"}).span.text)\n",
    "else:\n",
    "    second_columns['author_name'] = x.find('a',{'class':\"authorName\"}).span.text"
   ]
  },
  {
   "cell_type": "code",
   "execution_count": 143,
   "metadata": {},
   "outputs": [
    {
     "data": {
      "text/plain": [
       "{'book_title': 'Computer Science: An Overview',\n",
       " 'author_name': 'Sumita Arora',\n",
       " 'avg_rating': 3.76,\n",
       " 'rating_count': 22,\n",
       " 'format': 'Paperback',\n",
       " 'number_of_page': 599,\n",
       " 'language': 'English',\n",
       " 'ISBN': 'ISBN0321387015(ISBN13:9780321387011)'}"
      ]
     },
     "execution_count": 143,
     "metadata": {},
     "output_type": "execute_result"
    }
   ],
   "source": [
    "second_columns"
   ]
  },
  {
   "cell_type": "code",
   "execution_count": 146,
   "metadata": {},
   "outputs": [
    {
     "name": "stdout",
     "output_type": "stream",
     "text": [
      "it doesn't exist\n"
     ]
    }
   ],
   "source": [
    "if second_columns['book_title'] in book_detail.find({'book_title':True}):\n",
    "    print('it exist')\n",
    "else:\n",
    "    print(\"it doesn't exist\")"
   ]
  },
  {
   "cell_type": "code",
   "execution_count": null,
   "metadata": {},
   "outputs": [],
   "source": [
    "soup.find('div',{'class':\"uitext stacked\"})"
   ]
  },
  {
   "cell_type": "code",
   "execution_count": 3,
   "metadata": {},
   "outputs": [],
   "source": [
    "import re"
   ]
  },
  {
   "cell_type": "code",
   "execution_count": null,
   "metadata": {},
   "outputs": [],
   "source": [
    "float(soup.find('span',{'itemprop':\"ratingValue\"}).text.strip())"
   ]
  },
  {
   "cell_type": "code",
   "execution_count": null,
   "metadata": {},
   "outputs": [],
   "source": [
    "soup.find('meta',{'itemprop':\"ratingCount\"}).text.replace('\\n','').strip()"
   ]
  },
  {
   "cell_type": "code",
   "execution_count": null,
   "metadata": {},
   "outputs": [],
   "source": [
    "rateCount = 0\n",
    "for i in (re.findall(r'\\d+', soup.find('meta',{'itemprop':\"ratingCount\"}).text.replace('\\n','').strip())):\n",
    "    rateCount = int(i)\n",
    "print(rateCount)"
   ]
  },
  {
   "cell_type": "code",
   "execution_count": null,
   "metadata": {},
   "outputs": [],
   "source": [
    "reviewCount = 0\n",
    "for i in (re.findall(r'\\d+', soup.find('meta',{'itemprop':\"reviewCount\"}).text.replace('\\n','').strip())):\n",
    "    reviewCount = int(i)\n",
    "print(reviewCount)"
   ]
  },
  {
   "cell_type": "code",
   "execution_count": null,
   "metadata": {},
   "outputs": [],
   "source": [
    "soup.find('span',{'itemprop':\"bookFormat\"}).text.replace('\\n','').strip()"
   ]
  },
  {
   "cell_type": "code",
   "execution_count": null,
   "metadata": {},
   "outputs": [],
   "source": [
    "soup.find('span',{'itemprop':\"numberOfPages\"}).text.replace('\\n','').strip()"
   ]
  },
  {
   "cell_type": "code",
   "execution_count": null,
   "metadata": {},
   "outputs": [],
   "source": [
    "numberOfPages = 0\n",
    "for i in (re.findall(r'\\d+', soup.find('span',{'itemprop':\"numberOfPages\"}).text.replace('\\n','').strip())):\n",
    "    numberOfPages = int(i)\n",
    "print(numberOfPages)"
   ]
  },
  {
   "cell_type": "code",
   "execution_count": null,
   "metadata": {},
   "outputs": [],
   "source": [
    "soup.find('div',{'itemprop':\"inLanguage\"}).text"
   ]
  },
  {
   "cell_type": "code",
   "execution_count": null,
   "metadata": {},
   "outputs": [],
   "source": [
    "ISBN = ''\n",
    "for idx, val in enumerate(soup.find('div',{'id':\"bookDataBox\"}).find_all('div',{'class':'clearFloats'})):\n",
    "    val = val.text.replace('\\n','').strip()\n",
    "    val = val.replace(' ','')\n",
    "    if 'ISBN' in val:\n",
    "        ISBN += val\n",
    "print(ISBN)"
   ]
  },
  {
   "cell_type": "code",
   "execution_count": 186,
   "metadata": {},
   "outputs": [],
   "source": [
    "second_columns = {'book_title':None,\n",
    "           'author_name':None,\n",
    "           'avg_rating':None,\n",
    "           'rating_count':None,\n",
    "           'review_count':None,\n",
    "           'format':None,\n",
    "           'number_of_page':None,\n",
    "           'language':None,\n",
    "           'ISBN':None}"
   ]
  },
  {
   "cell_type": "code",
   "execution_count": 162,
   "metadata": {
    "scrolled": true
   },
   "outputs": [],
   "source": [
    "temp_list = []\n",
    "for x in book_info.find({},{'_id':False}):\n",
    "    temp_list.append(x['link'])"
   ]
  },
  {
   "cell_type": "code",
   "execution_count": 167,
   "metadata": {},
   "outputs": [
    {
     "data": {
      "text/plain": [
       "['https://www.goodreads.com/book/show/533070.Computer_Science?from_search=true&from_srp=true&qid=iHFbTUVsHL&rank=21',\n",
       " 'https://www.goodreads.com/book/show/8266079-multiple-choice-questions-in-computer-science?from_search=true&from_srp=true&qid=iHFbTUVsHL&rank=22',\n",
       " 'https://www.goodreads.com/book/show/28131102-cambridge-international-as-and-a-level-computer-science-revision-guide?from_search=true&from_srp=true&qid=iHFbTUVsHL&rank=23',\n",
       " 'https://www.goodreads.com/book/show/145058.Algorithms_on_Strings_Trees_and_Sequences?from_search=true&from_srp=true&qid=iHFbTUVsHL&rank=24',\n",
       " 'https://www.goodreads.com/book/show/18245828-coding-the-matrix?from_search=true&from_srp=true&qid=iHFbTUVsHL&rank=25']"
      ]
     },
     "execution_count": 167,
     "metadata": {},
     "output_type": "execute_result"
    }
   ],
   "source": [
    "temp_list[:5]"
   ]
  },
  {
   "cell_type": "code",
   "execution_count": 188,
   "metadata": {
    "scrolled": true
   },
   "outputs": [],
   "source": [
    "book_data = []\n",
    "for x in temp_list:\n",
    "    \n",
    "    api_url = '{}'.format(x)\n",
    "    r = requests.get(api_url)\n",
    "    soup = BeautifulSoup(r.text, 'html.parser')\n",
    "    \n",
    "    time.sleep(6)\n",
    "    \n",
    "    second_columns = {}\n",
    "    \n",
    "    second_columns['book_title'] = soup.find('h1',{'class':'gr-h1 gr-h1--serif'}).text.strip()\n",
    "    \n",
    "    if len(soup.find_all('div',{'class':'authorName__container'})) >= 2:\n",
    "        second_columns['author_name'] = []\n",
    "        for x in soup.find_all('div',{'class':'authorName__container'}):\n",
    "            second_columns['author_name'].append(x.find('a',{'class':\"authorName\"}).span.text)\n",
    "    else:\n",
    "        for x in soup.find_all('div',{'class':'authorName__container'}):\n",
    "            second_columns['author_name'] = x.find('a',{'class':\"authorName\"}).span.text\n",
    "        \n",
    "    second_columns['avg_rating'] = float(soup.find('span',{'itemprop':\"ratingValue\"}).text.strip())\n",
    "    \n",
    "    rateCount = 0\n",
    "    for i in (re.findall(r'\\d+', soup.find('meta',{'itemprop':\"ratingCount\"}).text.replace('\\n','').strip())):\n",
    "        rateCount = int(i)\n",
    "        \n",
    "    second_columns['rating_count'] = rateCount\n",
    "    \n",
    "    # second_columns['rating_count'] = soup.find('meta',{'itemprop':\"ratingCount\"}).text.replace('\\n','').strip()\n",
    "    \n",
    "    reviewCount = 0\n",
    "    for i in (re.findall(r'\\d+', soup.find('meta',{'itemprop':\"reviewCount\"}).text.replace('\\n','').strip())):\n",
    "        reviewCount = int(i)\n",
    "    \n",
    "    second_columns['review_count'] = reviewCount\n",
    "    \n",
    "    # second_columns['review_count'] = soup.find('meta',{'itemprop':\"reviewCount\"}).text.replace('\\n','').strip()\n",
    "    \n",
    "    try:\n",
    "        second_columns['format'] = soup.find('span',{'itemprop':\"bookFormat\"}).text.replace('\\n','').strip()\n",
    "    except:\n",
    "        second_columns['format'] = None\n",
    "    \n",
    "    try:   \n",
    "        numberOfPages = 0\n",
    "        for i in (re.findall(r'\\d+', soup.find('span',{'itemprop':\"numberOfPages\"}).text.replace('\\n','').strip())):\n",
    "            numberOfPages = int(i)\n",
    "        second_columns['number_of_page'] = numberOfPages\n",
    "        # soup.find('span',{'itemprop':\"numberOfPages\"}).text.replace('\\n','').strip()\n",
    "    except:\n",
    "        second_columns['number_of_page'] = None\n",
    "\n",
    "    try:\n",
    "        second_columns['language'] = soup.find('div',{'itemprop':\"inLanguage\"}).text\n",
    "    except:\n",
    "        second_columns['language'] = None\n",
    "    \n",
    "    ISBN = ''\n",
    "    for idx, val in enumerate(soup.find('div',{'id':\"bookDataBox\"}).find_all('div',{'class':'clearFloats'})):\n",
    "        val = val.text.replace('\\n','').strip()\n",
    "        val = val.replace(' ','')\n",
    "        if 'ISBN' in val:\n",
    "            ISBN += val\n",
    "    second_columns['ISBN'] = ISBN\n",
    "\n",
    "    book_data.append(second_columns)\n",
    "    \n",
    "    # do a search if it exist\n",
    "    if len(list(book_detail.find({'book_title':soup.find('h1',{'class':'gr-h1 gr-h1--serif'}).text.strip()}))):\n",
    "        continue\n",
    "    else:\n",
    "        book_detail.insert_one(second_columns)"
   ]
  },
  {
   "cell_type": "code",
   "execution_count": 177,
   "metadata": {},
   "outputs": [
    {
     "name": "stdout",
     "output_type": "stream",
     "text": [
      "it exist\n"
     ]
    }
   ],
   "source": [
    "if len(list(book_detail.find({'book_title':'Computer Science With Python (textbook XII)'}))) > 0:\n",
    "    print('it exist')\n",
    "else:\n",
    "    print(\"it doesn't exist\")"
   ]
  },
  {
   "cell_type": "code",
   "execution_count": null,
   "metadata": {},
   "outputs": [],
   "source": [
    "book_data[:21]"
   ]
  },
  {
   "cell_type": "code",
   "execution_count": 154,
   "metadata": {},
   "outputs": [
    {
     "name": "stdout",
     "output_type": "stream",
     "text": [
      "it exist\n"
     ]
    }
   ],
   "source": [
    "if len(list(book_detail.find({'book_title':''}))) > 0:\n",
    "else:"
   ]
  },
  {
   "cell_type": "code",
   "execution_count": 4,
   "metadata": {},
   "outputs": [
    {
     "data": {
      "text/plain": [
       "['admin', 'book', 'config', 'local']"
      ]
     },
     "execution_count": 4,
     "metadata": {},
     "output_type": "execute_result"
    }
   ],
   "source": [
    "client.list_database_names()"
   ]
  },
  {
   "cell_type": "code",
   "execution_count": 183,
   "metadata": {},
   "outputs": [],
   "source": [
    "db.book_detail.drop()"
   ]
  },
  {
   "cell_type": "code",
   "execution_count": 184,
   "metadata": {},
   "outputs": [],
   "source": [
    "db = client['book']\n",
    "book_detail = db['book_detail']"
   ]
  },
  {
   "cell_type": "code",
   "execution_count": 185,
   "metadata": {},
   "outputs": [
    {
     "data": {
      "text/plain": [
       "0"
      ]
     },
     "execution_count": 185,
     "metadata": {},
     "output_type": "execute_result"
    }
   ],
   "source": [
    "book_detail.estimated_document_count()"
   ]
  },
  {
   "cell_type": "code",
   "execution_count": 113,
   "metadata": {
    "scrolled": true
   },
   "outputs": [
    {
     "data": {
      "text/plain": [
       "[{'book_title': 'Computer Science: An Overview',\n",
       "  'author_name': 'J. Glenn Brookshear',\n",
       "  'avg_rating': 3.76,\n",
       "  'rating_count': 22,\n",
       "  'format': 'Paperback',\n",
       "  'number_of_page': 599,\n",
       "  'language': 'English',\n",
       "  'ISBN': 'ISBN0321387015(ISBN13:9780321387011)'},\n",
       " {'book_title': 'Multiple Choice Questions in Computer Science',\n",
       "  'author_name': 'Ela Kumar',\n",
       "  'avg_rating': 3.62,\n",
       "  'rating_count': 9,\n",
       "  'format': None,\n",
       "  'number_of_page': 472,\n",
       "  'ISBN': 'ISBN819067577X(ISBN13:9788190675772)'},\n",
       " {'book_title': 'Cambridge International as and a Level Computer Science Revision Guide',\n",
       "  'author_name': 'Tony Piper',\n",
       "  'avg_rating': 4.29,\n",
       "  'rating_count': 4,\n",
       "  'format': None,\n",
       "  'number_of_page': 328,\n",
       "  'ISBN': 'ISBN1107547547(ISBN13:9781107547544)'},\n",
       " {'book_title': 'Algorithms on Strings, Trees and Sequences: Computer Science and Computational Biology',\n",
       "  'author_name': 'Dan Gusfield',\n",
       "  'avg_rating': 4.09,\n",
       "  'rating_count': 4,\n",
       "  'format': 'Hardcover',\n",
       "  'number_of_page': 556,\n",
       "  'language': 'English',\n",
       "  'ISBN': 'ISBN0521585198(ISBN13:9780521585194)'},\n",
       " {'book_title': 'Coding the Matrix: Linear Algebra through Computer Science Applications',\n",
       "  'author_name': 'Philip N. Klein',\n",
       "  'avg_rating': 4.23,\n",
       "  'rating_count': 5,\n",
       "  'format': 'Paperback',\n",
       "  'number_of_page': 528,\n",
       "  'language': 'English',\n",
       "  'ISBN': 'ISBN061585673X(ISBN13:9780615856735)'},\n",
       " {'book_title': 'Computer Science with Python: Textbook for CBSE Class 12 (2020-21)',\n",
       "  'author_name': 'Preeti Arora',\n",
       "  'avg_rating': 4.26,\n",
       "  'rating_count': 6,\n",
       "  'format': None,\n",
       "  'number_of_page': 496,\n",
       "  'ISBN': 'ISBN9389174430(ISBN13:9789389174434)'},\n",
       " {'book_title': 'Understanding I.S.C. Computer Science Class - XII',\n",
       "  'author_name': ['V.K. Pandey', 'D.K. Dey'],\n",
       "  'avg_rating': 4.21,\n",
       "  'rating_count': 5,\n",
       "  'format': None,\n",
       "  'ISBN': 'ISBN8182964512(ISBN13:9788182964518)'},\n",
       " {'book_title': 'Theory of Computer Science: Automata, Languages and Computation, 3/E',\n",
       "  'author_name': ['K.L.P. Mishra', 'N. Chandrasekaran'],\n",
       "  'avg_rating': 4.0,\n",
       "  'rating_count': 1,\n",
       "  'format': 'Kindle Edition',\n",
       "  'number_of_page': 436,\n",
       "  'language': 'English',\n",
       "  'ISBN': ''},\n",
       " {'book_title': 'Foundations of Computer Science',\n",
       "  'author_name': 'Behrouz A. Forouzan',\n",
       "  'avg_rating': 3.96,\n",
       "  'rating_count': 6,\n",
       "  'format': 'Paperback',\n",
       "  'number_of_page': 624,\n",
       "  'language': 'English',\n",
       "  'ISBN': 'ISBN1844807002(ISBN13:9781844807000)'},\n",
       " {'book_title': 'Computer Science: A Structured Programming Approach Using C',\n",
       "  'author_name': ['Behrouz A. Forouzan', 'Richard F. Gilberg'],\n",
       "  'avg_rating': 3.89,\n",
       "  'rating_count': 6,\n",
       "  'format': 'Paperback',\n",
       "  'number_of_page': 832,\n",
       "  'language': 'English',\n",
       "  'ISBN': 'ISBN0534374824(ISBN13:9780534374822)'}]"
      ]
     },
     "execution_count": 113,
     "metadata": {},
     "output_type": "execute_result"
    }
   ],
   "source": [
    "list(book_detail.find({},{'_id':False}).limit(10))"
   ]
  },
  {
   "cell_type": "code",
   "execution_count": null,
   "metadata": {},
   "outputs": [],
   "source": [
    "df = pd.DataFrame(book_detail.find({},{'_id':False}))"
   ]
  },
  {
   "cell_type": "code",
   "execution_count": 115,
   "metadata": {},
   "outputs": [
    {
     "name": "stdout",
     "output_type": "stream",
     "text": [
      "<class 'pandas.core.frame.DataFrame'>\n",
      "RangeIndex: 40 entries, 0 to 39\n",
      "Data columns (total 8 columns):\n",
      " #   Column          Non-Null Count  Dtype  \n",
      "---  ------          --------------  -----  \n",
      " 0   book_title      40 non-null     object \n",
      " 1   author_name     40 non-null     object \n",
      " 2   avg_rating      40 non-null     float64\n",
      " 3   rating_count    40 non-null     int64  \n",
      " 4   format          21 non-null     object \n",
      " 5   number_of_page  36 non-null     float64\n",
      " 6   language        21 non-null     object \n",
      " 7   ISBN            40 non-null     object \n",
      "dtypes: float64(2), int64(1), object(5)\n",
      "memory usage: 2.6+ KB\n"
     ]
    }
   ],
   "source": [
    "df.info()"
   ]
  },
  {
   "cell_type": "code",
   "execution_count": 116,
   "metadata": {
    "scrolled": true
   },
   "outputs": [
    {
     "data": {
      "text/html": [
       "<div>\n",
       "<style scoped>\n",
       "    .dataframe tbody tr th:only-of-type {\n",
       "        vertical-align: middle;\n",
       "    }\n",
       "\n",
       "    .dataframe tbody tr th {\n",
       "        vertical-align: top;\n",
       "    }\n",
       "\n",
       "    .dataframe thead th {\n",
       "        text-align: right;\n",
       "    }\n",
       "</style>\n",
       "<table border=\"1\" class=\"dataframe\">\n",
       "  <thead>\n",
       "    <tr style=\"text-align: right;\">\n",
       "      <th></th>\n",
       "      <th>avg_rating</th>\n",
       "      <th>rating_count</th>\n",
       "      <th>number_of_page</th>\n",
       "    </tr>\n",
       "  </thead>\n",
       "  <tbody>\n",
       "    <tr>\n",
       "      <th>count</th>\n",
       "      <td>40.000000</td>\n",
       "      <td>40.000000</td>\n",
       "      <td>36.000000</td>\n",
       "    </tr>\n",
       "    <tr>\n",
       "      <th>mean</th>\n",
       "      <td>3.868750</td>\n",
       "      <td>6.450000</td>\n",
       "      <td>423.638889</td>\n",
       "    </tr>\n",
       "    <tr>\n",
       "      <th>std</th>\n",
       "      <td>0.350086</td>\n",
       "      <td>4.776814</td>\n",
       "      <td>218.193119</td>\n",
       "    </tr>\n",
       "    <tr>\n",
       "      <th>min</th>\n",
       "      <td>2.500000</td>\n",
       "      <td>0.000000</td>\n",
       "      <td>84.000000</td>\n",
       "    </tr>\n",
       "    <tr>\n",
       "      <th>25%</th>\n",
       "      <td>3.710000</td>\n",
       "      <td>4.000000</td>\n",
       "      <td>236.750000</td>\n",
       "    </tr>\n",
       "    <tr>\n",
       "      <th>50%</th>\n",
       "      <td>3.925000</td>\n",
       "      <td>5.000000</td>\n",
       "      <td>436.000000</td>\n",
       "    </tr>\n",
       "    <tr>\n",
       "      <th>75%</th>\n",
       "      <td>4.102500</td>\n",
       "      <td>9.000000</td>\n",
       "      <td>566.750000</td>\n",
       "    </tr>\n",
       "    <tr>\n",
       "      <th>max</th>\n",
       "      <td>4.290000</td>\n",
       "      <td>22.000000</td>\n",
       "      <td>832.000000</td>\n",
       "    </tr>\n",
       "  </tbody>\n",
       "</table>\n",
       "</div>"
      ],
      "text/plain": [
       "       avg_rating  rating_count  number_of_page\n",
       "count   40.000000     40.000000       36.000000\n",
       "mean     3.868750      6.450000      423.638889\n",
       "std      0.350086      4.776814      218.193119\n",
       "min      2.500000      0.000000       84.000000\n",
       "25%      3.710000      4.000000      236.750000\n",
       "50%      3.925000      5.000000      436.000000\n",
       "75%      4.102500      9.000000      566.750000\n",
       "max      4.290000     22.000000      832.000000"
      ]
     },
     "execution_count": 116,
     "metadata": {},
     "output_type": "execute_result"
    }
   ],
   "source": [
    "df.describe()"
   ]
  },
  {
   "cell_type": "code",
   "execution_count": 8,
   "metadata": {},
   "outputs": [
    {
     "data": {
      "text/html": [
       "<div>\n",
       "<style scoped>\n",
       "    .dataframe tbody tr th:only-of-type {\n",
       "        vertical-align: middle;\n",
       "    }\n",
       "\n",
       "    .dataframe tbody tr th {\n",
       "        vertical-align: top;\n",
       "    }\n",
       "\n",
       "    .dataframe thead th {\n",
       "        text-align: right;\n",
       "    }\n",
       "</style>\n",
       "<table border=\"1\" class=\"dataframe\">\n",
       "  <thead>\n",
       "    <tr style=\"text-align: right;\">\n",
       "      <th></th>\n",
       "      <th>book_title</th>\n",
       "      <th>author_name</th>\n",
       "      <th>avg_rating</th>\n",
       "      <th>rating_count</th>\n",
       "      <th>format</th>\n",
       "      <th>number_of_page</th>\n",
       "      <th>language</th>\n",
       "      <th>ISBN</th>\n",
       "    </tr>\n",
       "  </thead>\n",
       "  <tbody>\n",
       "    <tr>\n",
       "      <th>0</th>\n",
       "      <td>Computer Science: An Overview</td>\n",
       "      <td>J. Glenn Brookshear</td>\n",
       "      <td>3.76</td>\n",
       "      <td>22</td>\n",
       "      <td>Paperback</td>\n",
       "      <td>599.0</td>\n",
       "      <td>English</td>\n",
       "      <td>ISBN0321387015(ISBN13:9780321387011)</td>\n",
       "    </tr>\n",
       "    <tr>\n",
       "      <th>1</th>\n",
       "      <td>Multiple Choice Questions in Computer Science</td>\n",
       "      <td>Ela Kumar</td>\n",
       "      <td>3.62</td>\n",
       "      <td>9</td>\n",
       "      <td>None</td>\n",
       "      <td>472.0</td>\n",
       "      <td>NaN</td>\n",
       "      <td>ISBN819067577X(ISBN13:9788190675772)</td>\n",
       "    </tr>\n",
       "    <tr>\n",
       "      <th>2</th>\n",
       "      <td>Cambridge International as and a Level Compute...</td>\n",
       "      <td>Tony Piper</td>\n",
       "      <td>4.29</td>\n",
       "      <td>4</td>\n",
       "      <td>None</td>\n",
       "      <td>328.0</td>\n",
       "      <td>NaN</td>\n",
       "      <td>ISBN1107547547(ISBN13:9781107547544)</td>\n",
       "    </tr>\n",
       "    <tr>\n",
       "      <th>3</th>\n",
       "      <td>Algorithms on Strings, Trees and Sequences: Co...</td>\n",
       "      <td>Dan Gusfield</td>\n",
       "      <td>4.09</td>\n",
       "      <td>4</td>\n",
       "      <td>Hardcover</td>\n",
       "      <td>556.0</td>\n",
       "      <td>English</td>\n",
       "      <td>ISBN0521585198(ISBN13:9780521585194)</td>\n",
       "    </tr>\n",
       "    <tr>\n",
       "      <th>4</th>\n",
       "      <td>Coding the Matrix: Linear Algebra through Comp...</td>\n",
       "      <td>Philip N. Klein</td>\n",
       "      <td>4.23</td>\n",
       "      <td>5</td>\n",
       "      <td>Paperback</td>\n",
       "      <td>528.0</td>\n",
       "      <td>English</td>\n",
       "      <td>ISBN061585673X(ISBN13:9780615856735)</td>\n",
       "    </tr>\n",
       "    <tr>\n",
       "      <th>5</th>\n",
       "      <td>Computer Science: An Overview</td>\n",
       "      <td>J. Glenn Brookshear</td>\n",
       "      <td>3.76</td>\n",
       "      <td>22</td>\n",
       "      <td>Paperback</td>\n",
       "      <td>599.0</td>\n",
       "      <td>English</td>\n",
       "      <td>ISBN0321387015(ISBN13:9780321387011)</td>\n",
       "    </tr>\n",
       "    <tr>\n",
       "      <th>6</th>\n",
       "      <td>Multiple Choice Questions in Computer Science</td>\n",
       "      <td>Ela Kumar</td>\n",
       "      <td>3.62</td>\n",
       "      <td>9</td>\n",
       "      <td>None</td>\n",
       "      <td>472.0</td>\n",
       "      <td>NaN</td>\n",
       "      <td>ISBN819067577X(ISBN13:9788190675772)</td>\n",
       "    </tr>\n",
       "    <tr>\n",
       "      <th>7</th>\n",
       "      <td>Cambridge International as and a Level Compute...</td>\n",
       "      <td>Tony Piper</td>\n",
       "      <td>4.29</td>\n",
       "      <td>4</td>\n",
       "      <td>None</td>\n",
       "      <td>328.0</td>\n",
       "      <td>NaN</td>\n",
       "      <td>ISBN1107547547(ISBN13:9781107547544)</td>\n",
       "    </tr>\n",
       "    <tr>\n",
       "      <th>8</th>\n",
       "      <td>Algorithms on Strings, Trees and Sequences: Co...</td>\n",
       "      <td>Dan Gusfield</td>\n",
       "      <td>4.09</td>\n",
       "      <td>4</td>\n",
       "      <td>Hardcover</td>\n",
       "      <td>556.0</td>\n",
       "      <td>English</td>\n",
       "      <td>ISBN0521585198(ISBN13:9780521585194)</td>\n",
       "    </tr>\n",
       "    <tr>\n",
       "      <th>9</th>\n",
       "      <td>Coding the Matrix: Linear Algebra through Comp...</td>\n",
       "      <td>Philip N. Klein</td>\n",
       "      <td>4.23</td>\n",
       "      <td>5</td>\n",
       "      <td>Paperback</td>\n",
       "      <td>528.0</td>\n",
       "      <td>English</td>\n",
       "      <td>ISBN061585673X(ISBN13:9780615856735)</td>\n",
       "    </tr>\n",
       "  </tbody>\n",
       "</table>\n",
       "</div>"
      ],
      "text/plain": [
       "                                          book_title          author_name  \\\n",
       "0                      Computer Science: An Overview  J. Glenn Brookshear   \n",
       "1      Multiple Choice Questions in Computer Science            Ela Kumar   \n",
       "2  Cambridge International as and a Level Compute...           Tony Piper   \n",
       "3  Algorithms on Strings, Trees and Sequences: Co...         Dan Gusfield   \n",
       "4  Coding the Matrix: Linear Algebra through Comp...      Philip N. Klein   \n",
       "5                      Computer Science: An Overview  J. Glenn Brookshear   \n",
       "6      Multiple Choice Questions in Computer Science            Ela Kumar   \n",
       "7  Cambridge International as and a Level Compute...           Tony Piper   \n",
       "8  Algorithms on Strings, Trees and Sequences: Co...         Dan Gusfield   \n",
       "9  Coding the Matrix: Linear Algebra through Comp...      Philip N. Klein   \n",
       "\n",
       "   avg_rating  rating_count     format  number_of_page language  \\\n",
       "0        3.76            22  Paperback           599.0  English   \n",
       "1        3.62             9       None           472.0      NaN   \n",
       "2        4.29             4       None           328.0      NaN   \n",
       "3        4.09             4  Hardcover           556.0  English   \n",
       "4        4.23             5  Paperback           528.0  English   \n",
       "5        3.76            22  Paperback           599.0  English   \n",
       "6        3.62             9       None           472.0      NaN   \n",
       "7        4.29             4       None           328.0      NaN   \n",
       "8        4.09             4  Hardcover           556.0  English   \n",
       "9        4.23             5  Paperback           528.0  English   \n",
       "\n",
       "                                   ISBN  \n",
       "0  ISBN0321387015(ISBN13:9780321387011)  \n",
       "1  ISBN819067577X(ISBN13:9788190675772)  \n",
       "2  ISBN1107547547(ISBN13:9781107547544)  \n",
       "3  ISBN0521585198(ISBN13:9780521585194)  \n",
       "4  ISBN061585673X(ISBN13:9780615856735)  \n",
       "5  ISBN0321387015(ISBN13:9780321387011)  \n",
       "6  ISBN819067577X(ISBN13:9788190675772)  \n",
       "7  ISBN1107547547(ISBN13:9781107547544)  \n",
       "8  ISBN0521585198(ISBN13:9780521585194)  \n",
       "9  ISBN061585673X(ISBN13:9780615856735)  "
      ]
     },
     "execution_count": 8,
     "metadata": {},
     "output_type": "execute_result"
    }
   ],
   "source": [
    "df.head(10)"
   ]
  },
  {
   "cell_type": "code",
   "execution_count": 9,
   "metadata": {},
   "outputs": [
    {
     "data": {
      "text/html": [
       "<div>\n",
       "<style scoped>\n",
       "    .dataframe tbody tr th:only-of-type {\n",
       "        vertical-align: middle;\n",
       "    }\n",
       "\n",
       "    .dataframe tbody tr th {\n",
       "        vertical-align: top;\n",
       "    }\n",
       "\n",
       "    .dataframe thead th {\n",
       "        text-align: right;\n",
       "    }\n",
       "</style>\n",
       "<table border=\"1\" class=\"dataframe\">\n",
       "  <thead>\n",
       "    <tr style=\"text-align: right;\">\n",
       "      <th></th>\n",
       "      <th>book_title</th>\n",
       "      <th>author_name</th>\n",
       "      <th>avg_rating</th>\n",
       "      <th>rating_count</th>\n",
       "      <th>format</th>\n",
       "      <th>number_of_page</th>\n",
       "      <th>language</th>\n",
       "      <th>ISBN</th>\n",
       "    </tr>\n",
       "  </thead>\n",
       "  <tbody>\n",
       "    <tr>\n",
       "      <th>40</th>\n",
       "      <td>Computer Science: A Breadth-First Approach with C</td>\n",
       "      <td>Paul Nagin</td>\n",
       "      <td>3.71</td>\n",
       "      <td>5</td>\n",
       "      <td>Hardcover</td>\n",
       "      <td>768.0</td>\n",
       "      <td>English</td>\n",
       "      <td>ISBN0471585521(ISBN13:9780471585527)</td>\n",
       "    </tr>\n",
       "    <tr>\n",
       "      <th>41</th>\n",
       "      <td>Python for Data Science: A Crash Course for Da...</td>\n",
       "      <td>Computer Science Academy</td>\n",
       "      <td>2.50</td>\n",
       "      <td>0</td>\n",
       "      <td>None</td>\n",
       "      <td>147.0</td>\n",
       "      <td>NaN</td>\n",
       "      <td></td>\n",
       "    </tr>\n",
       "    <tr>\n",
       "      <th>42</th>\n",
       "      <td>English for Computer Science</td>\n",
       "      <td>Norma D. Mullen</td>\n",
       "      <td>3.71</td>\n",
       "      <td>1</td>\n",
       "      <td>None</td>\n",
       "      <td>241.0</td>\n",
       "      <td>NaN</td>\n",
       "      <td></td>\n",
       "    </tr>\n",
       "    <tr>\n",
       "      <th>43</th>\n",
       "      <td>Quantum Computer Science</td>\n",
       "      <td>N. David Mermin</td>\n",
       "      <td>3.63</td>\n",
       "      <td>5</td>\n",
       "      <td>Hardcover</td>\n",
       "      <td>220.0</td>\n",
       "      <td>English</td>\n",
       "      <td>ISBN0521876583(ISBN13:9780521876582)</td>\n",
       "    </tr>\n",
       "    <tr>\n",
       "      <th>44</th>\n",
       "      <td>Click Start Level 8: Computer Science for Schools</td>\n",
       "      <td>Shalini Harisukh</td>\n",
       "      <td>4.08</td>\n",
       "      <td>2</td>\n",
       "      <td>None</td>\n",
       "      <td>84.0</td>\n",
       "      <td>NaN</td>\n",
       "      <td>ISBN1107537592(ISBN13:9781107537590)</td>\n",
       "    </tr>\n",
       "  </tbody>\n",
       "</table>\n",
       "</div>"
      ],
      "text/plain": [
       "                                           book_title  \\\n",
       "40  Computer Science: A Breadth-First Approach with C   \n",
       "41  Python for Data Science: A Crash Course for Da...   \n",
       "42                       English for Computer Science   \n",
       "43                           Quantum Computer Science   \n",
       "44  Click Start Level 8: Computer Science for Schools   \n",
       "\n",
       "                 author_name  avg_rating  rating_count     format  \\\n",
       "40                Paul Nagin        3.71             5  Hardcover   \n",
       "41  Computer Science Academy        2.50             0       None   \n",
       "42           Norma D. Mullen        3.71             1       None   \n",
       "43           N. David Mermin        3.63             5  Hardcover   \n",
       "44          Shalini Harisukh        4.08             2       None   \n",
       "\n",
       "    number_of_page language                                  ISBN  \n",
       "40           768.0  English  ISBN0471585521(ISBN13:9780471585527)  \n",
       "41           147.0      NaN                                        \n",
       "42           241.0      NaN                                        \n",
       "43           220.0  English  ISBN0521876583(ISBN13:9780521876582)  \n",
       "44            84.0      NaN  ISBN1107537592(ISBN13:9781107537590)  "
      ]
     },
     "execution_count": 9,
     "metadata": {},
     "output_type": "execute_result"
    }
   ],
   "source": [
    "df.tail(5)"
   ]
  },
  {
   "cell_type": "code",
   "execution_count": 117,
   "metadata": {},
   "outputs": [
    {
     "name": "stdout",
     "output_type": "stream",
     "text": [
      "40\n",
      "22\n"
     ]
    }
   ],
   "source": [
    "print(len(df))\n",
    "df = df.drop_duplicates(subset=['book_title'])\n",
    "print(len(df))"
   ]
  },
  {
   "cell_type": "code",
   "execution_count": 123,
   "metadata": {
    "scrolled": true
   },
   "outputs": [
    {
     "data": {
      "image/png": "[encoded data removed]",
      "text/plain": [
       "<Figure size 432x288 with 1 Axes>"
      ]
     },
     "metadata": {},
     "output_type": "display_data"
    }
   ],
   "source": [
    "fig, ax = plt.subplots()\n",
    "ax.hist(df['avg_rating'], bins=20);\n",
    "plt.title(\"Average Rating\")\n",
    "plt.xlabel('Average Raiting')\n",
    "plt.ylabel('Count');"
   ]
  },
  {
   "cell_type": "code",
   "execution_count": 119,
   "metadata": {},
   "outputs": [
    {
     "data": {
      "image/png": "[encoded data removed]",
      "text/plain": [
       "<Figure size 432x288 with 1 Axes>"
      ]
     },
     "metadata": {},
     "output_type": "display_data"
    }
   ],
   "source": [
    "fig, ax = plt.subplots()\n",
    "ax.hist(df['rating_count'], bins=20);\n",
    "plt.title(\"Rating Count\")\n",
    "plt.xlabel('Rating Count')\n",
    "plt.ylabel('Count');"
   ]
  },
  {
   "cell_type": "code",
   "execution_count": 18,
   "metadata": {},
   "outputs": [
    {
     "data": {
      "image/png": "[encoded data removed]",
      "text/plain": [
       "<Figure size 432x288 with 1 Axes>"
      ]
     },
     "metadata": {},
     "output_type": "display_data"
    }
   ],
   "source": [
    "fig, ax = plt.subplots()\n",
    "ax.hist(df['number_of_page'].dropna(), bins=20);\n",
    "plt.title(\"Number of Page\")\n",
    "plt.xlabel('Number of Page')\n",
    "plt.ylabel('Count');"
   ]
  },
  {
   "cell_type": "code",
   "execution_count": 120,
   "metadata": {},
   "outputs": [
    {
     "data": {
      "image/png": "[encoded data removed]",
      "text/plain": [
       "<Figure size 432x288 with 1 Axes>"
      ]
     },
     "metadata": {},
     "output_type": "display_data"
    }
   ],
   "source": [
    "df['format'].value_counts().sort_values(ascending=True).plot(kind='barh');"
   ]
  },
  {
   "cell_type": "code",
   "execution_count": null,
   "metadata": {},
   "outputs": [],
   "source": []
  }
 ],
 "metadata": {
  "kernelspec": {
   "display_name": "Python 3.6.8 64-bit ('base': conda)",
   "language": "python",
   "name": "python36864bitbaseconda8143bf76a2004fda854d7e537f0cc215"
  },
  "language_info": {
   "codemirror_mode": {
    "name": "ipython",
    "version": 3
   },
   "file_extension": ".py",
   "mimetype": "text/x-python",
   "name": "python",
   "nbconvert_exporter": "python",
   "pygments_lexer": "ipython3",
   "version": "3.7.7"
  }
 },
 "nbformat": 4,
 "nbformat_minor": 4
}

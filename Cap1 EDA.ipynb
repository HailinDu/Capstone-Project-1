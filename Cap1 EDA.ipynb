{
 "cells": [
  {
   "cell_type": "code",
   "execution_count": 101,
   "metadata": {},
   "outputs": [],
   "source": [
    "from pymongo import MongoClient\n",
    "import pprint\n",
    "\n",
    "import numpy as np\n",
    "import pandas as pd\n",
    "import matplotlib.pyplot as plt\n",
    "import seaborn as sns\n",
    "plt.style.use('fivethirtyeight')\n",
    "\n",
    "# Requests sends and recieves HTTP requests.\n",
    "import requests\n",
    "\n",
    "# Beautiful Soup parses HTML documents in python.\n",
    "from bs4 import BeautifulSoup\n",
    "\n",
    "import json\n",
    "import time\n",
    "\n",
    "\n",
    "from scipy import stats"
   ]
  },
  {
   "cell_type": "code",
   "execution_count": 2,
   "metadata": {},
   "outputs": [],
   "source": [
    "client = MongoClient('localhost', 27017)"
   ]
  },
  {
   "cell_type": "code",
   "execution_count": 3,
   "metadata": {},
   "outputs": [],
   "source": [
    "db = client['book']\n",
    "book_detail = db['book_detail']"
   ]
  },
  {
   "cell_type": "code",
   "execution_count": 4,
   "metadata": {},
   "outputs": [
    {
     "data": {
      "text/plain": [
       "1902"
      ]
     },
     "execution_count": 4,
     "metadata": {},
     "output_type": "execute_result"
    }
   ],
   "source": [
    "book_detail.estimated_document_count()"
   ]
  },
  {
   "cell_type": "code",
   "execution_count": 5,
   "metadata": {},
   "outputs": [],
   "source": [
    "df = pd.DataFrame(book_detail.find({},{'_id':False}))"
   ]
  },
  {
   "cell_type": "code",
   "execution_count": 6,
   "metadata": {},
   "outputs": [
    {
     "name": "stdout",
     "output_type": "stream",
     "text": [
      "1902\n",
      "1902\n"
     ]
    }
   ],
   "source": [
    "print(len(df))\n",
    "df = df.drop_duplicates(subset=['book_title'])\n",
    "print(len(df))"
   ]
  },
  {
   "cell_type": "code",
   "execution_count": 7,
   "metadata": {
    "scrolled": false
   },
   "outputs": [
    {
     "data": {
      "text/html": [
       "<div>\n",
       "<style scoped>\n",
       "    .dataframe tbody tr th:only-of-type {\n",
       "        vertical-align: middle;\n",
       "    }\n",
       "\n",
       "    .dataframe tbody tr th {\n",
       "        vertical-align: top;\n",
       "    }\n",
       "\n",
       "    .dataframe thead th {\n",
       "        text-align: right;\n",
       "    }\n",
       "</style>\n",
       "<table border=\"1\" class=\"dataframe\">\n",
       "  <thead>\n",
       "    <tr style=\"text-align: right;\">\n",
       "      <th></th>\n",
       "      <th>book_title</th>\n",
       "      <th>author_name</th>\n",
       "      <th>avg_rating</th>\n",
       "      <th>rating_count</th>\n",
       "      <th>review_count</th>\n",
       "      <th>format</th>\n",
       "      <th>number_of_page</th>\n",
       "      <th>language</th>\n",
       "      <th>ISBN</th>\n",
       "    </tr>\n",
       "  </thead>\n",
       "  <tbody>\n",
       "    <tr>\n",
       "      <th>0</th>\n",
       "      <td>Computer Science: An Overview</td>\n",
       "      <td>J. Glenn Brookshear</td>\n",
       "      <td>3.76</td>\n",
       "      <td>310</td>\n",
       "      <td>22</td>\n",
       "      <td>Paperback</td>\n",
       "      <td>599.0</td>\n",
       "      <td>English</td>\n",
       "      <td>ISBN0321387015(ISBN13:9780321387011)</td>\n",
       "    </tr>\n",
       "    <tr>\n",
       "      <th>1</th>\n",
       "      <td>Multiple Choice Questions in Computer Science</td>\n",
       "      <td>Ela Kumar</td>\n",
       "      <td>3.62</td>\n",
       "      <td>66</td>\n",
       "      <td>9</td>\n",
       "      <td>Paperback</td>\n",
       "      <td>472.0</td>\n",
       "      <td>None</td>\n",
       "      <td>ISBN819067577X(ISBN13:9788190675772)</td>\n",
       "    </tr>\n",
       "    <tr>\n",
       "      <th>2</th>\n",
       "      <td>Cambridge International as and a Level Compute...</td>\n",
       "      <td>Tony Piper</td>\n",
       "      <td>4.29</td>\n",
       "      <td>41</td>\n",
       "      <td>4</td>\n",
       "      <td>Paperback</td>\n",
       "      <td>328.0</td>\n",
       "      <td>None</td>\n",
       "      <td>ISBN1107547547(ISBN13:9781107547544)</td>\n",
       "    </tr>\n",
       "    <tr>\n",
       "      <th>3</th>\n",
       "      <td>Algorithms on Strings, Trees and Sequences: Co...</td>\n",
       "      <td>Dan Gusfield</td>\n",
       "      <td>4.09</td>\n",
       "      <td>85</td>\n",
       "      <td>4</td>\n",
       "      <td>Hardcover</td>\n",
       "      <td>556.0</td>\n",
       "      <td>English</td>\n",
       "      <td>ISBN0521585198(ISBN13:9780521585194)</td>\n",
       "    </tr>\n",
       "    <tr>\n",
       "      <th>4</th>\n",
       "      <td>Coding the Matrix: Linear Algebra through Comp...</td>\n",
       "      <td>Philip N. Klein</td>\n",
       "      <td>4.23</td>\n",
       "      <td>115</td>\n",
       "      <td>5</td>\n",
       "      <td>Paperback</td>\n",
       "      <td>528.0</td>\n",
       "      <td>English</td>\n",
       "      <td>ISBN061585673X(ISBN13:9780615856735)</td>\n",
       "    </tr>\n",
       "  </tbody>\n",
       "</table>\n",
       "</div>"
      ],
      "text/plain": [
       "                                          book_title          author_name  \\\n",
       "0                      Computer Science: An Overview  J. Glenn Brookshear   \n",
       "1      Multiple Choice Questions in Computer Science            Ela Kumar   \n",
       "2  Cambridge International as and a Level Compute...           Tony Piper   \n",
       "3  Algorithms on Strings, Trees and Sequences: Co...         Dan Gusfield   \n",
       "4  Coding the Matrix: Linear Algebra through Comp...      Philip N. Klein   \n",
       "\n",
       "   avg_rating  rating_count  review_count     format  number_of_page language  \\\n",
       "0        3.76           310            22  Paperback           599.0  English   \n",
       "1        3.62            66             9  Paperback           472.0     None   \n",
       "2        4.29            41             4  Paperback           328.0     None   \n",
       "3        4.09            85             4  Hardcover           556.0  English   \n",
       "4        4.23           115             5  Paperback           528.0  English   \n",
       "\n",
       "                                   ISBN  \n",
       "0  ISBN0321387015(ISBN13:9780321387011)  \n",
       "1  ISBN819067577X(ISBN13:9788190675772)  \n",
       "2  ISBN1107547547(ISBN13:9781107547544)  \n",
       "3  ISBN0521585198(ISBN13:9780521585194)  \n",
       "4  ISBN061585673X(ISBN13:9780615856735)  "
      ]
     },
     "execution_count": 7,
     "metadata": {},
     "output_type": "execute_result"
    }
   ],
   "source": [
    "df.head()"
   ]
  },
  {
   "cell_type": "code",
   "execution_count": 8,
   "metadata": {},
   "outputs": [
    {
     "data": {
      "text/plain": [
       "(1902, 9)"
      ]
     },
     "execution_count": 8,
     "metadata": {},
     "output_type": "execute_result"
    }
   ],
   "source": [
    "df.shape"
   ]
  },
  {
   "cell_type": "code",
   "execution_count": 9,
   "metadata": {},
   "outputs": [
    {
     "name": "stdout",
     "output_type": "stream",
     "text": [
      "<class 'pandas.core.frame.DataFrame'>\n",
      "Int64Index: 1902 entries, 0 to 1901\n",
      "Data columns (total 9 columns):\n",
      " #   Column          Non-Null Count  Dtype  \n",
      "---  ------          --------------  -----  \n",
      " 0   book_title      1902 non-null   object \n",
      " 1   author_name     1902 non-null   object \n",
      " 2   avg_rating      1902 non-null   float64\n",
      " 3   rating_count    1902 non-null   int64  \n",
      " 4   review_count    1902 non-null   int64  \n",
      " 5   format          1852 non-null   object \n",
      " 6   number_of_page  1573 non-null   float64\n",
      " 7   language        956 non-null    object \n",
      " 8   ISBN            1902 non-null   object \n",
      "dtypes: float64(2), int64(2), object(5)\n",
      "memory usage: 148.6+ KB\n"
     ]
    }
   ],
   "source": [
    "df.info()"
   ]
  },
  {
   "cell_type": "code",
   "execution_count": 10,
   "metadata": {},
   "outputs": [
    {
     "data": {
      "text/html": [
       "<div>\n",
       "<style scoped>\n",
       "    .dataframe tbody tr th:only-of-type {\n",
       "        vertical-align: middle;\n",
       "    }\n",
       "\n",
       "    .dataframe tbody tr th {\n",
       "        vertical-align: top;\n",
       "    }\n",
       "\n",
       "    .dataframe thead th {\n",
       "        text-align: right;\n",
       "    }\n",
       "</style>\n",
       "<table border=\"1\" class=\"dataframe\">\n",
       "  <thead>\n",
       "    <tr style=\"text-align: right;\">\n",
       "      <th></th>\n",
       "      <th>avg_rating</th>\n",
       "      <th>rating_count</th>\n",
       "      <th>review_count</th>\n",
       "      <th>number_of_page</th>\n",
       "    </tr>\n",
       "  </thead>\n",
       "  <tbody>\n",
       "    <tr>\n",
       "      <th>count</th>\n",
       "      <td>1902.000000</td>\n",
       "      <td>1902.000000</td>\n",
       "      <td>1902.000000</td>\n",
       "      <td>1573.000000</td>\n",
       "    </tr>\n",
       "    <tr>\n",
       "      <th>mean</th>\n",
       "      <td>2.109311</td>\n",
       "      <td>10.786015</td>\n",
       "      <td>1.182440</td>\n",
       "      <td>387.778767</td>\n",
       "    </tr>\n",
       "    <tr>\n",
       "      <th>std</th>\n",
       "      <td>2.017028</td>\n",
       "      <td>61.096563</td>\n",
       "      <td>9.845778</td>\n",
       "      <td>305.735283</td>\n",
       "    </tr>\n",
       "    <tr>\n",
       "      <th>min</th>\n",
       "      <td>0.000000</td>\n",
       "      <td>0.000000</td>\n",
       "      <td>0.000000</td>\n",
       "      <td>0.000000</td>\n",
       "    </tr>\n",
       "    <tr>\n",
       "      <th>25%</th>\n",
       "      <td>0.000000</td>\n",
       "      <td>0.000000</td>\n",
       "      <td>0.000000</td>\n",
       "      <td>189.000000</td>\n",
       "    </tr>\n",
       "    <tr>\n",
       "      <th>50%</th>\n",
       "      <td>2.790000</td>\n",
       "      <td>1.000000</td>\n",
       "      <td>0.000000</td>\n",
       "      <td>332.000000</td>\n",
       "    </tr>\n",
       "    <tr>\n",
       "      <th>75%</th>\n",
       "      <td>4.000000</td>\n",
       "      <td>3.000000</td>\n",
       "      <td>0.000000</td>\n",
       "      <td>512.000000</td>\n",
       "    </tr>\n",
       "    <tr>\n",
       "      <th>max</th>\n",
       "      <td>5.000000</td>\n",
       "      <td>965.000000</td>\n",
       "      <td>218.000000</td>\n",
       "      <td>3348.000000</td>\n",
       "    </tr>\n",
       "  </tbody>\n",
       "</table>\n",
       "</div>"
      ],
      "text/plain": [
       "        avg_rating  rating_count  review_count  number_of_page\n",
       "count  1902.000000   1902.000000   1902.000000     1573.000000\n",
       "mean      2.109311     10.786015      1.182440      387.778767\n",
       "std       2.017028     61.096563      9.845778      305.735283\n",
       "min       0.000000      0.000000      0.000000        0.000000\n",
       "25%       0.000000      0.000000      0.000000      189.000000\n",
       "50%       2.790000      1.000000      0.000000      332.000000\n",
       "75%       4.000000      3.000000      0.000000      512.000000\n",
       "max       5.000000    965.000000    218.000000     3348.000000"
      ]
     },
     "execution_count": 10,
     "metadata": {},
     "output_type": "execute_result"
    }
   ],
   "source": [
    "df.describe()"
   ]
  },
  {
   "cell_type": "code",
   "execution_count": 11,
   "metadata": {},
   "outputs": [
    {
     "data": {
      "text/plain": [
       "book_title          0\n",
       "author_name         0\n",
       "avg_rating          0\n",
       "rating_count        0\n",
       "review_count        0\n",
       "format             50\n",
       "number_of_page    329\n",
       "language          946\n",
       "ISBN                0\n",
       "dtype: int64"
      ]
     },
     "execution_count": 11,
     "metadata": {},
     "output_type": "execute_result"
    }
   ],
   "source": [
    "df.apply(lambda x: sum(x.isnull()),axis=0)"
   ]
  },
  {
   "cell_type": "code",
   "execution_count": 12,
   "metadata": {},
   "outputs": [
    {
     "data": {
      "image/png": "[encoded data removed]",
      "text/plain": [
       "<Figure size 432x288 with 1 Axes>"
      ]
     },
     "metadata": {},
     "output_type": "display_data"
    }
   ],
   "source": [
    "fig, ax = plt.subplots()\n",
    "ax.hist(df['avg_rating'], bins=20);\n",
    "plt.title(\"Average Rating\")\n",
    "plt.xlabel('Average Raiting')\n",
    "plt.ylabel('Count');"
   ]
  },
  {
   "cell_type": "code",
   "execution_count": 13,
   "metadata": {},
   "outputs": [
    {
     "data": {
      "image/png": "[encoded data removed]",
      "text/plain": [
       "<Figure size 432x288 with 1 Axes>"
      ]
     },
     "metadata": {},
     "output_type": "display_data"
    }
   ],
   "source": [
    "fig, ax = plt.subplots()\n",
    "ax.boxplot(df['avg_rating']);\n",
    "plt.title(\"Average Rating\")\n",
    "plt.xlabel('Average Raiting')\n",
    "plt.ylabel('Count');"
   ]
  },
  {
   "cell_type": "code",
   "execution_count": 14,
   "metadata": {},
   "outputs": [
    {
     "data": {
      "image/png": "[encoded data removed]",
      "text/plain": [
       "<Figure size 432x288 with 1 Axes>"
      ]
     },
     "metadata": {},
     "output_type": "display_data"
    }
   ],
   "source": [
    "fig, ax = plt.subplots()\n",
    "ax.hist(df['number_of_page'].dropna(), bins=20);\n",
    "plt.title(\"Number of Page\")\n",
    "plt.xlabel('Number of Page')\n",
    "plt.ylabel('Count');"
   ]
  },
  {
   "cell_type": "code",
   "execution_count": 15,
   "metadata": {},
   "outputs": [
    {
     "data": {
      "image/png": "[encoded data removed]",
      "text/plain": [
       "<Figure size 432x288 with 1 Axes>"
      ]
     },
     "metadata": {},
     "output_type": "display_data"
    }
   ],
   "source": [
    "fig, ax = plt.subplots()\n",
    "ax.boxplot(df['number_of_page'].dropna());\n",
    "plt.title(\"Number of Page\")\n",
    "plt.xlabel('Number of Page')\n",
    "plt.ylabel('Count');"
   ]
  },
  {
   "cell_type": "code",
   "execution_count": 16,
   "metadata": {},
   "outputs": [
    {
     "data": {
      "image/png": "[encoded data removed]",
      "text/plain": [
       "<Figure size 432x288 with 1 Axes>"
      ]
     },
     "metadata": {},
     "output_type": "display_data"
    }
   ],
   "source": [
    "fig, ax = plt.subplots()\n",
    "ax.hist(df['rating_count'], bins=20);\n",
    "plt.title(\"Rating Count\")\n",
    "plt.xlabel('Rating Count')\n",
    "plt.ylabel('Count');"
   ]
  },
  {
   "cell_type": "code",
   "execution_count": 17,
   "metadata": {},
   "outputs": [
    {
     "data": {
      "image/png": "[encoded data removed]",
      "text/plain": [
       "<Figure size 432x288 with 1 Axes>"
      ]
     },
     "metadata": {},
     "output_type": "display_data"
    }
   ],
   "source": [
    "fig, ax = plt.subplots()\n",
    "ax.boxplot(df['rating_count']);\n",
    "plt.title(\"Rating Count\")\n",
    "plt.xlabel('Rating Count')\n",
    "plt.ylabel('Count');"
   ]
  },
  {
   "cell_type": "code",
   "execution_count": 18,
   "metadata": {},
   "outputs": [
    {
     "data": {
      "image/png": "[encoded data removed]",
      "text/plain": [
       "<Figure size 432x288 with 1 Axes>"
      ]
     },
     "metadata": {},
     "output_type": "display_data"
    }
   ],
   "source": [
    "fig, ax = plt.subplots()\n",
    "ax.boxplot(df['review_count']);\n",
    "plt.title(\"Review Count\")\n",
    "plt.xlabel('Review Count')\n",
    "plt.ylabel('Count');"
   ]
  },
  {
   "cell_type": "code",
   "execution_count": 19,
   "metadata": {},
   "outputs": [
    {
     "data": {
      "image/png": "[encoded data removed]",
      "text/plain": [
       "<Figure size 432x288 with 1 Axes>"
      ]
     },
     "metadata": {},
     "output_type": "display_data"
    }
   ],
   "source": [
    "fig, ax = plt.subplots()\n",
    "ax.hist(df['review_count'], bins=20);\n",
    "plt.title(\"Review Count\")\n",
    "plt.xlabel('Review Count')\n",
    "plt.ylabel('Count');"
   ]
  },
  {
   "cell_type": "code",
   "execution_count": 20,
   "metadata": {},
   "outputs": [
    {
     "data": {
      "image/png": "[encoded data removed]",
      "text/plain": [
       "<Figure size 432x288 with 1 Axes>"
      ]
     },
     "metadata": {},
     "output_type": "display_data"
    }
   ],
   "source": [
    "df['format'].value_counts().sort_values(ascending=True).plot(kind='barh');"
   ]
  },
  {
   "cell_type": "code",
   "execution_count": 21,
   "metadata": {},
   "outputs": [
    {
     "data": {
      "image/png": "[encoded data removed]",
      "text/plain": [
       "<Figure size 432x288 with 1 Axes>"
      ]
     },
     "metadata": {},
     "output_type": "display_data"
    }
   ],
   "source": [
    "fig, ax = plt.subplots()\n",
    "ax.scatter(df['avg_rating'],df['number_of_page']);"
   ]
  },
  {
   "cell_type": "code",
   "execution_count": 22,
   "metadata": {},
   "outputs": [
    {
     "data": {
      "image/png": "[encoded data removed]",
      "text/plain": [
       "<Figure size 432x288 with 1 Axes>"
      ]
     },
     "metadata": {},
     "output_type": "display_data"
    }
   ],
   "source": [
    "fig, ax = plt.subplots()\n",
    "ax.scatter(df['rating_count'],df['number_of_page']);"
   ]
  },
  {
   "cell_type": "code",
   "execution_count": 23,
   "metadata": {},
   "outputs": [
    {
     "data": {
      "image/png": "[encoded data removed]",
      "text/plain": [
       "<Figure size 432x288 with 1 Axes>"
      ]
     },
     "metadata": {},
     "output_type": "display_data"
    }
   ],
   "source": [
    "fig, ax = plt.subplots()\n",
    "ax.scatter(df['review_count'],df['number_of_page']);"
   ]
  },
  {
   "cell_type": "code",
   "execution_count": 24,
   "metadata": {},
   "outputs": [
    {
     "data": {
      "image/png": "[encoded data removed]",
      "text/plain": [
       "<Figure size 720x432 with 2 Axes>"
      ]
     },
     "metadata": {},
     "output_type": "display_data"
    }
   ],
   "source": [
    "fig, ax = plt.subplots(figsize=(10,6))\n",
    "corr = df.corr()\n",
    "sns.heatmap(corr, mask=np.zeros_like(corr, dtype=np.bool), annot=True,cmap=sns.diverging_palette(220, 10, as_cmap=True),\n",
    "            square=True, ax=ax);"
   ]
  },
  {
   "cell_type": "code",
   "execution_count": 25,
   "metadata": {},
   "outputs": [],
   "source": [
    "db = client['book']\n",
    "book_info = db['book_info']\n",
    "df_link = pd.DataFrame(book_info.find({},{'_id':False}))"
   ]
  },
  {
   "cell_type": "code",
   "execution_count": 26,
   "metadata": {},
   "outputs": [
    {
     "name": "stdout",
     "output_type": "stream",
     "text": [
      "2040\n",
      "1896\n"
     ]
    }
   ],
   "source": [
    "print(len(df_link))\n",
    "df_link = df_link.drop_duplicates(subset=['book_title'])\n",
    "print(len(df_link))"
   ]
  },
  {
   "cell_type": "code",
   "execution_count": 27,
   "metadata": {
    "scrolled": true
   },
   "outputs": [
    {
     "data": {
      "text/html": [
       "<div>\n",
       "<style scoped>\n",
       "    .dataframe tbody tr th:only-of-type {\n",
       "        vertical-align: middle;\n",
       "    }\n",
       "\n",
       "    .dataframe tbody tr th {\n",
       "        vertical-align: top;\n",
       "    }\n",
       "\n",
       "    .dataframe thead th {\n",
       "        text-align: right;\n",
       "    }\n",
       "</style>\n",
       "<table border=\"1\" class=\"dataframe\">\n",
       "  <thead>\n",
       "    <tr style=\"text-align: right;\">\n",
       "      <th></th>\n",
       "      <th>book_title</th>\n",
       "      <th>author_name</th>\n",
       "      <th>avg_rating</th>\n",
       "      <th>rating_count</th>\n",
       "      <th>publish year</th>\n",
       "      <th>edition</th>\n",
       "      <th>link</th>\n",
       "    </tr>\n",
       "  </thead>\n",
       "  <tbody>\n",
       "    <tr>\n",
       "      <th>0</th>\n",
       "      <td>Computer Science: An Overview</td>\n",
       "      <td>J. Glenn Brookshear</td>\n",
       "      <td>3.76 avg rating</td>\n",
       "      <td>310 ratings</td>\n",
       "      <td>published 1985</td>\n",
       "      <td>35 editions</td>\n",
       "      <td>https://www.goodreads.com/book/show/533070.Com...</td>\n",
       "    </tr>\n",
       "    <tr>\n",
       "      <th>1</th>\n",
       "      <td>Multiple Choice Questions in Computer Science</td>\n",
       "      <td>Ela Kumar</td>\n",
       "      <td>3.62 avg rating</td>\n",
       "      <td>66 ratings</td>\n",
       "      <td>published 2008</td>\n",
       "      <td>1 edition</td>\n",
       "      <td>https://www.goodreads.com/book/show/8266079-mu...</td>\n",
       "    </tr>\n",
       "    <tr>\n",
       "      <th>2</th>\n",
       "      <td>Cambridge International as and a Level Compute...</td>\n",
       "      <td>Tony Piper</td>\n",
       "      <td>4.29 avg rating</td>\n",
       "      <td>41 ratings</td>\n",
       "      <td>None</td>\n",
       "      <td>1 edition</td>\n",
       "      <td>https://www.goodreads.com/book/show/28131102-c...</td>\n",
       "    </tr>\n",
       "    <tr>\n",
       "      <th>3</th>\n",
       "      <td>Algorithms on Strings, Trees and Sequences: Co...</td>\n",
       "      <td>Dan Gusfield</td>\n",
       "      <td>4.09 avg rating</td>\n",
       "      <td>85 ratings</td>\n",
       "      <td>published 1997</td>\n",
       "      <td>4 editions</td>\n",
       "      <td>https://www.goodreads.com/book/show/145058.Alg...</td>\n",
       "    </tr>\n",
       "    <tr>\n",
       "      <th>4</th>\n",
       "      <td>Coding the Matrix: Linear Algebra through Comp...</td>\n",
       "      <td>Philip N. Klein</td>\n",
       "      <td>4.23 avg rating</td>\n",
       "      <td>115 ratings</td>\n",
       "      <td>published 2013</td>\n",
       "      <td>2 editions</td>\n",
       "      <td>https://www.goodreads.com/book/show/18245828-c...</td>\n",
       "    </tr>\n",
       "  </tbody>\n",
       "</table>\n",
       "</div>"
      ],
      "text/plain": [
       "                                          book_title          author_name  \\\n",
       "0                      Computer Science: An Overview  J. Glenn Brookshear   \n",
       "1      Multiple Choice Questions in Computer Science            Ela Kumar   \n",
       "2  Cambridge International as and a Level Compute...           Tony Piper   \n",
       "3  Algorithms on Strings, Trees and Sequences: Co...         Dan Gusfield   \n",
       "4  Coding the Matrix: Linear Algebra through Comp...      Philip N. Klein   \n",
       "\n",
       "        avg_rating rating_count    publish year      edition  \\\n",
       "0  3.76 avg rating  310 ratings  published 1985  35 editions   \n",
       "1  3.62 avg rating   66 ratings  published 2008    1 edition   \n",
       "2  4.29 avg rating   41 ratings            None    1 edition   \n",
       "3  4.09 avg rating   85 ratings  published 1997   4 editions   \n",
       "4  4.23 avg rating  115 ratings  published 2013   2 editions   \n",
       "\n",
       "                                                link  \n",
       "0  https://www.goodreads.com/book/show/533070.Com...  \n",
       "1  https://www.goodreads.com/book/show/8266079-mu...  \n",
       "2  https://www.goodreads.com/book/show/28131102-c...  \n",
       "3  https://www.goodreads.com/book/show/145058.Alg...  \n",
       "4  https://www.goodreads.com/book/show/18245828-c...  "
      ]
     },
     "execution_count": 27,
     "metadata": {},
     "output_type": "execute_result"
    }
   ],
   "source": [
    "df_link.head()"
   ]
  },
  {
   "cell_type": "code",
   "execution_count": 28,
   "metadata": {},
   "outputs": [],
   "source": [
    "total_df = pd.merge(df, df_link, on=['book_title'])"
   ]
  },
  {
   "cell_type": "code",
   "execution_count": 29,
   "metadata": {},
   "outputs": [
    {
     "data": {
      "text/html": [
       "<div>\n",
       "<style scoped>\n",
       "    .dataframe tbody tr th:only-of-type {\n",
       "        vertical-align: middle;\n",
       "    }\n",
       "\n",
       "    .dataframe tbody tr th {\n",
       "        vertical-align: top;\n",
       "    }\n",
       "\n",
       "    .dataframe thead th {\n",
       "        text-align: right;\n",
       "    }\n",
       "</style>\n",
       "<table border=\"1\" class=\"dataframe\">\n",
       "  <thead>\n",
       "    <tr style=\"text-align: right;\">\n",
       "      <th></th>\n",
       "      <th>book_title</th>\n",
       "      <th>author_name_x</th>\n",
       "      <th>avg_rating_x</th>\n",
       "      <th>rating_count_x</th>\n",
       "      <th>review_count</th>\n",
       "      <th>format</th>\n",
       "      <th>number_of_page</th>\n",
       "      <th>language</th>\n",
       "      <th>ISBN</th>\n",
       "      <th>author_name_y</th>\n",
       "      <th>avg_rating_y</th>\n",
       "      <th>rating_count_y</th>\n",
       "      <th>publish year</th>\n",
       "      <th>edition</th>\n",
       "      <th>link</th>\n",
       "    </tr>\n",
       "  </thead>\n",
       "  <tbody>\n",
       "    <tr>\n",
       "      <th>0</th>\n",
       "      <td>Computer Science: An Overview</td>\n",
       "      <td>J. Glenn Brookshear</td>\n",
       "      <td>3.76</td>\n",
       "      <td>310</td>\n",
       "      <td>22</td>\n",
       "      <td>Paperback</td>\n",
       "      <td>599.0</td>\n",
       "      <td>English</td>\n",
       "      <td>ISBN0321387015(ISBN13:9780321387011)</td>\n",
       "      <td>J. Glenn Brookshear</td>\n",
       "      <td>3.76 avg rating</td>\n",
       "      <td>310 ratings</td>\n",
       "      <td>published 1985</td>\n",
       "      <td>35 editions</td>\n",
       "      <td>https://www.goodreads.com/book/show/533070.Com...</td>\n",
       "    </tr>\n",
       "    <tr>\n",
       "      <th>1</th>\n",
       "      <td>Multiple Choice Questions in Computer Science</td>\n",
       "      <td>Ela Kumar</td>\n",
       "      <td>3.62</td>\n",
       "      <td>66</td>\n",
       "      <td>9</td>\n",
       "      <td>Paperback</td>\n",
       "      <td>472.0</td>\n",
       "      <td>None</td>\n",
       "      <td>ISBN819067577X(ISBN13:9788190675772)</td>\n",
       "      <td>Ela Kumar</td>\n",
       "      <td>3.62 avg rating</td>\n",
       "      <td>66 ratings</td>\n",
       "      <td>published 2008</td>\n",
       "      <td>1 edition</td>\n",
       "      <td>https://www.goodreads.com/book/show/8266079-mu...</td>\n",
       "    </tr>\n",
       "    <tr>\n",
       "      <th>2</th>\n",
       "      <td>Cambridge International as and a Level Compute...</td>\n",
       "      <td>Tony Piper</td>\n",
       "      <td>4.29</td>\n",
       "      <td>41</td>\n",
       "      <td>4</td>\n",
       "      <td>Paperback</td>\n",
       "      <td>328.0</td>\n",
       "      <td>None</td>\n",
       "      <td>ISBN1107547547(ISBN13:9781107547544)</td>\n",
       "      <td>Tony Piper</td>\n",
       "      <td>4.29 avg rating</td>\n",
       "      <td>41 ratings</td>\n",
       "      <td>None</td>\n",
       "      <td>1 edition</td>\n",
       "      <td>https://www.goodreads.com/book/show/28131102-c...</td>\n",
       "    </tr>\n",
       "    <tr>\n",
       "      <th>3</th>\n",
       "      <td>Algorithms on Strings, Trees and Sequences: Co...</td>\n",
       "      <td>Dan Gusfield</td>\n",
       "      <td>4.09</td>\n",
       "      <td>85</td>\n",
       "      <td>4</td>\n",
       "      <td>Hardcover</td>\n",
       "      <td>556.0</td>\n",
       "      <td>English</td>\n",
       "      <td>ISBN0521585198(ISBN13:9780521585194)</td>\n",
       "      <td>Dan Gusfield</td>\n",
       "      <td>4.09 avg rating</td>\n",
       "      <td>85 ratings</td>\n",
       "      <td>published 1997</td>\n",
       "      <td>4 editions</td>\n",
       "      <td>https://www.goodreads.com/book/show/145058.Alg...</td>\n",
       "    </tr>\n",
       "    <tr>\n",
       "      <th>4</th>\n",
       "      <td>Coding the Matrix: Linear Algebra through Comp...</td>\n",
       "      <td>Philip N. Klein</td>\n",
       "      <td>4.23</td>\n",
       "      <td>115</td>\n",
       "      <td>5</td>\n",
       "      <td>Paperback</td>\n",
       "      <td>528.0</td>\n",
       "      <td>English</td>\n",
       "      <td>ISBN061585673X(ISBN13:9780615856735)</td>\n",
       "      <td>Philip N. Klein</td>\n",
       "      <td>4.23 avg rating</td>\n",
       "      <td>115 ratings</td>\n",
       "      <td>published 2013</td>\n",
       "      <td>2 editions</td>\n",
       "      <td>https://www.goodreads.com/book/show/18245828-c...</td>\n",
       "    </tr>\n",
       "  </tbody>\n",
       "</table>\n",
       "</div>"
      ],
      "text/plain": [
       "                                          book_title        author_name_x  \\\n",
       "0                      Computer Science: An Overview  J. Glenn Brookshear   \n",
       "1      Multiple Choice Questions in Computer Science            Ela Kumar   \n",
       "2  Cambridge International as and a Level Compute...           Tony Piper   \n",
       "3  Algorithms on Strings, Trees and Sequences: Co...         Dan Gusfield   \n",
       "4  Coding the Matrix: Linear Algebra through Comp...      Philip N. Klein   \n",
       "\n",
       "   avg_rating_x  rating_count_x  review_count     format  number_of_page  \\\n",
       "0          3.76             310            22  Paperback           599.0   \n",
       "1          3.62              66             9  Paperback           472.0   \n",
       "2          4.29              41             4  Paperback           328.0   \n",
       "3          4.09              85             4  Hardcover           556.0   \n",
       "4          4.23             115             5  Paperback           528.0   \n",
       "\n",
       "  language                                  ISBN        author_name_y  \\\n",
       "0  English  ISBN0321387015(ISBN13:9780321387011)  J. Glenn Brookshear   \n",
       "1     None  ISBN819067577X(ISBN13:9788190675772)            Ela Kumar   \n",
       "2     None  ISBN1107547547(ISBN13:9781107547544)           Tony Piper   \n",
       "3  English  ISBN0521585198(ISBN13:9780521585194)         Dan Gusfield   \n",
       "4  English  ISBN061585673X(ISBN13:9780615856735)      Philip N. Klein   \n",
       "\n",
       "      avg_rating_y rating_count_y    publish year      edition  \\\n",
       "0  3.76 avg rating    310 ratings  published 1985  35 editions   \n",
       "1  3.62 avg rating     66 ratings  published 2008    1 edition   \n",
       "2  4.29 avg rating     41 ratings            None    1 edition   \n",
       "3  4.09 avg rating     85 ratings  published 1997   4 editions   \n",
       "4  4.23 avg rating    115 ratings  published 2013   2 editions   \n",
       "\n",
       "                                                link  \n",
       "0  https://www.goodreads.com/book/show/533070.Com...  \n",
       "1  https://www.goodreads.com/book/show/8266079-mu...  \n",
       "2  https://www.goodreads.com/book/show/28131102-c...  \n",
       "3  https://www.goodreads.com/book/show/145058.Alg...  \n",
       "4  https://www.goodreads.com/book/show/18245828-c...  "
      ]
     },
     "execution_count": 29,
     "metadata": {},
     "output_type": "execute_result"
    }
   ],
   "source": [
    "total_df.head()"
   ]
  },
  {
   "cell_type": "code",
   "execution_count": 30,
   "metadata": {},
   "outputs": [],
   "source": [
    "# total_df.to_csv('total_df.csv', index = False)\n",
    "total_df = total_df.drop(columns=['author_name_y','avg_rating_y','rating_count_y'])"
   ]
  },
  {
   "cell_type": "code",
   "execution_count": 38,
   "metadata": {},
   "outputs": [],
   "source": [
    "publish_year = []\n",
    "for x in total_df['publish year']:\n",
    "    if x == None:\n",
    "        publish_year.append(None)\n",
    "    else:\n",
    "        publish_year.append(int((x.replace('published ', ''))))"
   ]
  },
  {
   "cell_type": "code",
   "execution_count": 39,
   "metadata": {},
   "outputs": [
    {
     "data": {
      "text/plain": [
       "[1985,\n",
       " 2008,\n",
       " None,\n",
       " 1997,\n",
       " 2013,\n",
       " None,\n",
       " None,\n",
       " 2013,\n",
       " 2002,\n",
       " 2000,\n",
       " None,\n",
       " 1997,\n",
       " 1996,\n",
       " None,\n",
       " 1995,\n",
       " 1996,\n",
       " 1992,\n",
       " None,\n",
       " None,\n",
       " 2007,\n",
       " None,\n",
       " 2016,\n",
       " 2016,\n",
       " 1988,\n",
       " None,\n",
       " 2009,\n",
       " None,\n",
       " None,\n",
       " None,\n",
       " None,\n",
       " None,\n",
       " 1982,\n",
       " 1975,\n",
       " 1972,\n",
       " 1989,\n",
       " 2004,\n",
       " 1999,\n",
       " 2003,\n",
       " None,\n",
       " 2010,\n",
       " 2016,\n",
       " 1982,\n",
       " None,\n",
       " None,\n",
       " None,\n",
       " None,\n",
       " None,\n",
       " 2009,\n",
       " 1982,\n",
       " 1999,\n",
       " 1997,\n",
       " None,\n",
       " 2011,\n",
       " None,\n",
       " None,\n",
       " None,\n",
       " 2002,\n",
       " None,\n",
       " 2015,\n",
       " 1988,\n",
       " 1999,\n",
       " None,\n",
       " 1995,\n",
       " None,\n",
       " None,\n",
       " 2014,\n",
       " 2014,\n",
       " 2015,\n",
       " None,\n",
       " None,\n",
       " 2016,\n",
       " 1985,\n",
       " 1976,\n",
       " 1986,\n",
       " 2012,\n",
       " None,\n",
       " 1998,\n",
       " 1985,\n",
       " 2011,\n",
       " None,\n",
       " None,\n",
       " None,\n",
       " None,\n",
       " 2004,\n",
       " 2013,\n",
       " None,\n",
       " 2004,\n",
       " None,\n",
       " 1993,\n",
       " 2016,\n",
       " 1986,\n",
       " None,\n",
       " 2001,\n",
       " 2007,\n",
       " 2013,\n",
       " 1987,\n",
       " 1995,\n",
       " None,\n",
       " 2005,\n",
       " 1998,\n",
       " 2010,\n",
       " None,\n",
       " 1988,\n",
       " 2016,\n",
       " None,\n",
       " 1980,\n",
       " 2015,\n",
       " 1991,\n",
       " None,\n",
       " None,\n",
       " 1997,\n",
       " 2004,\n",
       " 2004,\n",
       " 2015,\n",
       " 2007,\n",
       " 1978,\n",
       " 2015,\n",
       " 1996,\n",
       " 2015,\n",
       " None,\n",
       " 2003,\n",
       " None,\n",
       " None,\n",
       " None,\n",
       " 2016,\n",
       " 1998,\n",
       " 1998,\n",
       " 2008,\n",
       " 1984,\n",
       " None,\n",
       " None,\n",
       " 2005,\n",
       " 2001,\n",
       " None,\n",
       " None,\n",
       " 2002,\n",
       " 1998,\n",
       " 2007,\n",
       " 2009,\n",
       " None,\n",
       " 2013,\n",
       " None,\n",
       " 2004,\n",
       " None,\n",
       " 1996,\n",
       " 1992,\n",
       " None,\n",
       " None,\n",
       " None,\n",
       " 1969,\n",
       " None,\n",
       " 1992,\n",
       " 2000,\n",
       " None,\n",
       " None,\n",
       " 1999,\n",
       " 2015,\n",
       " None,\n",
       " 2006,\n",
       " None,\n",
       " 1977,\n",
       " 1996,\n",
       " None,\n",
       " None,\n",
       " 2010,\n",
       " None,\n",
       " None,\n",
       " None,\n",
       " 2015,\n",
       " 2010,\n",
       " None,\n",
       " 1995,\n",
       " 1983,\n",
       " 2012,\n",
       " None,\n",
       " 2004,\n",
       " 2015,\n",
       " 1991,\n",
       " 2001,\n",
       " None,\n",
       " None,\n",
       " None,\n",
       " None,\n",
       " 1997,\n",
       " 2015,\n",
       " 2012,\n",
       " None,\n",
       " 2001,\n",
       " 2004,\n",
       " 1999,\n",
       " 2010,\n",
       " None,\n",
       " None,\n",
       " 1997,\n",
       " 2013,\n",
       " None,\n",
       " None,\n",
       " None,\n",
       " 2008,\n",
       " None,\n",
       " None,\n",
       " None,\n",
       " 1985,\n",
       " 2012,\n",
       " 2009,\n",
       " None,\n",
       " 1970,\n",
       " 2012,\n",
       " 2007,\n",
       " 1997,\n",
       " 1990,\n",
       " None,\n",
       " 2015,\n",
       " None,\n",
       " None,\n",
       " None,\n",
       " None,\n",
       " None,\n",
       " None,\n",
       " 1974,\n",
       " None,\n",
       " None,\n",
       " None,\n",
       " 1997,\n",
       " 2012,\n",
       " 1957,\n",
       " None,\n",
       " 1990,\n",
       " 1994,\n",
       " None,\n",
       " None,\n",
       " 2010,\n",
       " None,\n",
       " None,\n",
       " None,\n",
       " 2015,\n",
       " None,\n",
       " 1998,\n",
       " 1999,\n",
       " 1968,\n",
       " 1985,\n",
       " None,\n",
       " 2015,\n",
       " None,\n",
       " 2005,\n",
       " None,\n",
       " None,\n",
       " None,\n",
       " None,\n",
       " None,\n",
       " None,\n",
       " None,\n",
       " None,\n",
       " None,\n",
       " None,\n",
       " 1986,\n",
       " None,\n",
       " 2007,\n",
       " 2016,\n",
       " 1990,\n",
       " None,\n",
       " None,\n",
       " None,\n",
       " 2003,\n",
       " None,\n",
       " None,\n",
       " 2009,\n",
       " None,\n",
       " None,\n",
       " 2008,\n",
       " 1992,\n",
       " 2000,\n",
       " 2000,\n",
       " None,\n",
       " 1983,\n",
       " None,\n",
       " 1998,\n",
       " None,\n",
       " None,\n",
       " 2004,\n",
       " None,\n",
       " 2004,\n",
       " None,\n",
       " None,\n",
       " None,\n",
       " 2011,\n",
       " None,\n",
       " None,\n",
       " 2005,\n",
       " 2000,\n",
       " 1997,\n",
       " None,\n",
       " 2003,\n",
       " 2012,\n",
       " None,\n",
       " 2002,\n",
       " 1995,\n",
       " None,\n",
       " 1978,\n",
       " None,\n",
       " None,\n",
       " 1996,\n",
       " 2003,\n",
       " 1976,\n",
       " None,\n",
       " 2006,\n",
       " 2000,\n",
       " 1985,\n",
       " 1997,\n",
       " None,\n",
       " None,\n",
       " 1981,\n",
       " None,\n",
       " None,\n",
       " None,\n",
       " 2002,\n",
       " None,\n",
       " None,\n",
       " 2012,\n",
       " 2010,\n",
       " 1994,\n",
       " 1999,\n",
       " 1987,\n",
       " 1999,\n",
       " None,\n",
       " 1995,\n",
       " None,\n",
       " 2011,\n",
       " 2015,\n",
       " None,\n",
       " None,\n",
       " 1997,\n",
       " 2001,\n",
       " 1997,\n",
       " 1990,\n",
       " None,\n",
       " 1989,\n",
       " None,\n",
       " 1995,\n",
       " 2005,\n",
       " None,\n",
       " None,\n",
       " None,\n",
       " 2004,\n",
       " 2006,\n",
       " 1987,\n",
       " 2009,\n",
       " 2011,\n",
       " None,\n",
       " 2012,\n",
       " None,\n",
       " None,\n",
       " 1994,\n",
       " None,\n",
       " None,\n",
       " 2012,\n",
       " 1998,\n",
       " None,\n",
       " None,\n",
       " None,\n",
       " None,\n",
       " 2010,\n",
       " None,\n",
       " None,\n",
       " None,\n",
       " 2005,\n",
       " None,\n",
       " 1999,\n",
       " None,\n",
       " None,\n",
       " None,\n",
       " 2003,\n",
       " 1997,\n",
       " 2004,\n",
       " 1986,\n",
       " None,\n",
       " None,\n",
       " None,\n",
       " 2016,\n",
       " 2010,\n",
       " None,\n",
       " 1996,\n",
       " 2006,\n",
       " 2014,\n",
       " None,\n",
       " None,\n",
       " None,\n",
       " 2003,\n",
       " None,\n",
       " 2012,\n",
       " None,\n",
       " 2002,\n",
       " 1998,\n",
       " None,\n",
       " 2017,\n",
       " None,\n",
       " 2009,\n",
       " 2013,\n",
       " 2014,\n",
       " None,\n",
       " None,\n",
       " 2002,\n",
       " None,\n",
       " None,\n",
       " None,\n",
       " None,\n",
       " 2017,\n",
       " 1994,\n",
       " 1988,\n",
       " None,\n",
       " None,\n",
       " 2012,\n",
       " None,\n",
       " None,\n",
       " 2004,\n",
       " 2006,\n",
       " 2011,\n",
       " 2014,\n",
       " 1973,\n",
       " None,\n",
       " 1987,\n",
       " None,\n",
       " 2016,\n",
       " None,\n",
       " None,\n",
       " 1999,\n",
       " 1985,\n",
       " 1985,\n",
       " None,\n",
       " None,\n",
       " 1999,\n",
       " 1990,\n",
       " 1981,\n",
       " 1994,\n",
       " 1983,\n",
       " 2011,\n",
       " 2013,\n",
       " None,\n",
       " 2010,\n",
       " None,\n",
       " None,\n",
       " None,\n",
       " 1975,\n",
       " 2005,\n",
       " 2011,\n",
       " 2015,\n",
       " None,\n",
       " None,\n",
       " 1984,\n",
       " 1998,\n",
       " 1991,\n",
       " None,\n",
       " None,\n",
       " None,\n",
       " None,\n",
       " 1997,\n",
       " 2002,\n",
       " 2013,\n",
       " None,\n",
       " None,\n",
       " 2016,\n",
       " 2004,\n",
       " 1990,\n",
       " 2004,\n",
       " 1978,\n",
       " 1987,\n",
       " 1996,\n",
       " None,\n",
       " None,\n",
       " 2016,\n",
       " 2015,\n",
       " None,\n",
       " 2001,\n",
       " 1988,\n",
       " None,\n",
       " 2008,\n",
       " 2009,\n",
       " None,\n",
       " None,\n",
       " 2014,\n",
       " None,\n",
       " 2007,\n",
       " 1998,\n",
       " 1998,\n",
       " None,\n",
       " None,\n",
       " None,\n",
       " 2015,\n",
       " None,\n",
       " None,\n",
       " 2009,\n",
       " 2007,\n",
       " 2010,\n",
       " 1984,\n",
       " None,\n",
       " 1994,\n",
       " 2010,\n",
       " 2008,\n",
       " None,\n",
       " None,\n",
       " 2003,\n",
       " None,\n",
       " None,\n",
       " 2015,\n",
       " 1959,\n",
       " None,\n",
       " None,\n",
       " None,\n",
       " 1982,\n",
       " 2011,\n",
       " None,\n",
       " 2014,\n",
       " 2015,\n",
       " 2015,\n",
       " 2007,\n",
       " 2013,\n",
       " 2001,\n",
       " 1990,\n",
       " 1991,\n",
       " None,\n",
       " 1989,\n",
       " 1982,\n",
       " None,\n",
       " None,\n",
       " None,\n",
       " 1997,\n",
       " 2002,\n",
       " 2009,\n",
       " 2014,\n",
       " None,\n",
       " None,\n",
       " 1993,\n",
       " None,\n",
       " 2015,\n",
       " None,\n",
       " None,\n",
       " None,\n",
       " 2006,\n",
       " 2007,\n",
       " 1995,\n",
       " 2011,\n",
       " 2014,\n",
       " None,\n",
       " None,\n",
       " None,\n",
       " None,\n",
       " 2002,\n",
       " 2009,\n",
       " None,\n",
       " None,\n",
       " 2004,\n",
       " None,\n",
       " None,\n",
       " None,\n",
       " None,\n",
       " 1981,\n",
       " None,\n",
       " None,\n",
       " 2002,\n",
       " 1986,\n",
       " 1975,\n",
       " 2000,\n",
       " None,\n",
       " 1996,\n",
       " 2011,\n",
       " None,\n",
       " None,\n",
       " 1991,\n",
       " 1980,\n",
       " 2001,\n",
       " 2011,\n",
       " None,\n",
       " None,\n",
       " None,\n",
       " None,\n",
       " None,\n",
       " 1993,\n",
       " 1987,\n",
       " 1993,\n",
       " 1988,\n",
       " None,\n",
       " None,\n",
       " None,\n",
       " None,\n",
       " 1991,\n",
       " None,\n",
       " 2002,\n",
       " 2015,\n",
       " None,\n",
       " 1996,\n",
       " 2014,\n",
       " None,\n",
       " None,\n",
       " None,\n",
       " 1990,\n",
       " 2007,\n",
       " None,\n",
       " None,\n",
       " 2013,\n",
       " None,\n",
       " 1991,\n",
       " None,\n",
       " 2002,\n",
       " 1996,\n",
       " 1991,\n",
       " None,\n",
       " None,\n",
       " None,\n",
       " None,\n",
       " 2013,\n",
       " None,\n",
       " None,\n",
       " 2014,\n",
       " 2016,\n",
       " None,\n",
       " 1995,\n",
       " 1981,\n",
       " 2015,\n",
       " None,\n",
       " None,\n",
       " 1980,\n",
       " None,\n",
       " 1970,\n",
       " 1981,\n",
       " None,\n",
       " None,\n",
       " None,\n",
       " 2008,\n",
       " 2010,\n",
       " 2004,\n",
       " None,\n",
       " None,\n",
       " None,\n",
       " None,\n",
       " None,\n",
       " 2009,\n",
       " 2001,\n",
       " 2000,\n",
       " None,\n",
       " None,\n",
       " None,\n",
       " None,\n",
       " None,\n",
       " None,\n",
       " None,\n",
       " None,\n",
       " None,\n",
       " None,\n",
       " None,\n",
       " 2009,\n",
       " 1992,\n",
       " 1969,\n",
       " None,\n",
       " None,\n",
       " None,\n",
       " None,\n",
       " None,\n",
       " None,\n",
       " None,\n",
       " None,\n",
       " 2008,\n",
       " 1998,\n",
       " None,\n",
       " None,\n",
       " None,\n",
       " None,\n",
       " None,\n",
       " None,\n",
       " 1999,\n",
       " 1995,\n",
       " None,\n",
       " 2000,\n",
       " 1989,\n",
       " 2012,\n",
       " None,\n",
       " None,\n",
       " None,\n",
       " None,\n",
       " None,\n",
       " 2005,\n",
       " 1991,\n",
       " 1976,\n",
       " 1991,\n",
       " 2009,\n",
       " 2014,\n",
       " None,\n",
       " 1994,\n",
       " None,\n",
       " 1978,\n",
       " 1997,\n",
       " 2004,\n",
       " 2013,\n",
       " 2007,\n",
       " None,\n",
       " 2015,\n",
       " 1996,\n",
       " 1977,\n",
       " None,\n",
       " None,\n",
       " None,\n",
       " None,\n",
       " 1993,\n",
       " 1986,\n",
       " 1987,\n",
       " None,\n",
       " None,\n",
       " None,\n",
       " 2008,\n",
       " 2002,\n",
       " 2016,\n",
       " None,\n",
       " None,\n",
       " None,\n",
       " None,\n",
       " None,\n",
       " None,\n",
       " None,\n",
       " 2003,\n",
       " 2000,\n",
       " 2012,\n",
       " 2015,\n",
       " None,\n",
       " None,\n",
       " None,\n",
       " 2007,\n",
       " 1992,\n",
       " 2010,\n",
       " 2012,\n",
       " 2014,\n",
       " None,\n",
       " None,\n",
       " 2004,\n",
       " 1981,\n",
       " 1997,\n",
       " 2009,\n",
       " 2010,\n",
       " None,\n",
       " None,\n",
       " None,\n",
       " 2001,\n",
       " 1967,\n",
       " None,\n",
       " None,\n",
       " None,\n",
       " None,\n",
       " None,\n",
       " None,\n",
       " None,\n",
       " None,\n",
       " 2005,\n",
       " 1979,\n",
       " 2010,\n",
       " 2013,\n",
       " 2006,\n",
       " 2013,\n",
       " None,\n",
       " None,\n",
       " None,\n",
       " None,\n",
       " None,\n",
       " 1985,\n",
       " None,\n",
       " None,\n",
       " None,\n",
       " None,\n",
       " None,\n",
       " 1995,\n",
       " None,\n",
       " 2001,\n",
       " 1991,\n",
       " 1989,\n",
       " 2000,\n",
       " 2011,\n",
       " 2011,\n",
       " 2009,\n",
       " 2011,\n",
       " 2011,\n",
       " None,\n",
       " 2014,\n",
       " None,\n",
       " None,\n",
       " 2001,\n",
       " 2008,\n",
       " 1996,\n",
       " 1995,\n",
       " 2001,\n",
       " 2000,\n",
       " 2011,\n",
       " 1997,\n",
       " None,\n",
       " None,\n",
       " 2000,\n",
       " 1999,\n",
       " 1993,\n",
       " None,\n",
       " None,\n",
       " 2006,\n",
       " None,\n",
       " None,\n",
       " 1990,\n",
       " None,\n",
       " 1996,\n",
       " 2006,\n",
       " None,\n",
       " None,\n",
       " 2005,\n",
       " 1993,\n",
       " 2009,\n",
       " 1988,\n",
       " None,\n",
       " None,\n",
       " None,\n",
       " 1974,\n",
       " 1997,\n",
       " 1985,\n",
       " 1981,\n",
       " 2009,\n",
       " 2006,\n",
       " 2013,\n",
       " None,\n",
       " None,\n",
       " None,\n",
       " None,\n",
       " None,\n",
       " None,\n",
       " None,\n",
       " None,\n",
       " None,\n",
       " 2002,\n",
       " 1985,\n",
       " None,\n",
       " 1982,\n",
       " None,\n",
       " None,\n",
       " 2009,\n",
       " 2005,\n",
       " 2010,\n",
       " 1992,\n",
       " 1985,\n",
       " 2009,\n",
       " 2002,\n",
       " None,\n",
       " None,\n",
       " None,\n",
       " None,\n",
       " None,\n",
       " 2013,\n",
       " None,\n",
       " None,\n",
       " None,\n",
       " 1990,\n",
       " 2015,\n",
       " 1998,\n",
       " 2013,\n",
       " 2008,\n",
       " 2011,\n",
       " 1988,\n",
       " None,\n",
       " None,\n",
       " None,\n",
       " None,\n",
       " None,\n",
       " None,\n",
       " None,\n",
       " 2005,\n",
       " 2006,\n",
       " 2005,\n",
       " 1997,\n",
       " 2009,\n",
       " 2009,\n",
       " 2010,\n",
       " 1967,\n",
       " 2010,\n",
       " 2005,\n",
       " None,\n",
       " None,\n",
       " None,\n",
       " None,\n",
       " None,\n",
       " 1997,\n",
       " 1972,\n",
       " 1989,\n",
       " 2002,\n",
       " 2011,\n",
       " 2003,\n",
       " 2011,\n",
       " None,\n",
       " None,\n",
       " None,\n",
       " None,\n",
       " 1993,\n",
       " 1992,\n",
       " 2001,\n",
       " 2011,\n",
       " None,\n",
       " None,\n",
       " None,\n",
       " None,\n",
       " None,\n",
       " None,\n",
       " None,\n",
       " None,\n",
       " 1999,\n",
       " None,\n",
       " None,\n",
       " 2003,\n",
       " 1988,\n",
       " 1980,\n",
       " 2004,\n",
       " 2002,\n",
       " 1998,\n",
       " 2008,\n",
       " 2013,\n",
       " 1753,\n",
       " None,\n",
       " None,\n",
       " 2008,\n",
       " 1995,\n",
       " 2012,\n",
       " 2007,\n",
       " 2000,\n",
       " 2002,\n",
       " None,\n",
       " None,\n",
       " None,\n",
       " None,\n",
       " 2015,\n",
       " 2014,\n",
       " None,\n",
       " None,\n",
       " None,\n",
       " 1993,\n",
       " 1993,\n",
       " 2007,\n",
       " 1995,\n",
       " 2009,\n",
       " 2008,\n",
       " None,\n",
       " 2010,\n",
       " 1993,\n",
       " 2013,\n",
       " None,\n",
       " None,\n",
       " None,\n",
       " None,\n",
       " None,\n",
       " 2007,\n",
       " 1985,\n",
       " 2007,\n",
       " None,\n",
       " 1999,\n",
       " 2013,\n",
       " None,\n",
       " None,\n",
       " None,\n",
       " None,\n",
       " 2014,\n",
       " None,\n",
       " 2005,\n",
       " 2007,\n",
       " None,\n",
       " 1999,\n",
       " 1969,\n",
       " 1971,\n",
       " None,\n",
       " 2002,\n",
       " 2008,\n",
       " 2004,\n",
       " 1989,\n",
       " None,\n",
       " None,\n",
       " None,\n",
       " None,\n",
       " None,\n",
       " 2004,\n",
       " 1993,\n",
       " 1986,\n",
       " 1997,\n",
       " 2008,\n",
       " 2011,\n",
       " 2005,\n",
       " 1995,\n",
       " 2013,\n",
       " None,\n",
       " None,\n",
       " None,\n",
       " None,\n",
       " 1979,\n",
       " 1999,\n",
       " 1988,\n",
       " None,\n",
       " 2012,\n",
       " 1992,\n",
       " 2013,\n",
       " 1986,\n",
       " 2012,\n",
       " None,\n",
       " 2010,\n",
       " None,\n",
       " None,\n",
       " ...]"
      ]
     },
     "execution_count": 39,
     "metadata": {},
     "output_type": "execute_result"
    }
   ],
   "source": [
    "publish_year"
   ]
  },
  {
   "cell_type": "code",
   "execution_count": 40,
   "metadata": {},
   "outputs": [],
   "source": [
    "def replace_all(text, dic):\n",
    "    for i, j in dic.items():\n",
    "        text = text.replace(i, j)\n",
    "    return text\n",
    "\n",
    "editions = []\n",
    "d = { \" editions\": \"\", \" edition\": \"\"}\n",
    "for x in total_df['edition']:\n",
    "    if x == None:\n",
    "        editions.append(None)\n",
    "    else:\n",
    "        editions.append(int(replace_all(x,d)))"
   ]
  },
  {
   "cell_type": "code",
   "execution_count": 41,
   "metadata": {},
   "outputs": [],
   "source": [
    "total_df['first_publish_year'] = publish_year\n",
    "total_df['editions'] = editions"
   ]
  },
  {
   "cell_type": "code",
   "execution_count": 42,
   "metadata": {},
   "outputs": [],
   "source": [
    "total_df['first_publish_year'] = total_df.first_publish_year.astype('Int64')"
   ]
  },
  {
   "cell_type": "code",
   "execution_count": 43,
   "metadata": {},
   "outputs": [
    {
     "name": "stdout",
     "output_type": "stream",
     "text": [
      "<class 'pandas.core.frame.DataFrame'>\n",
      "Int64Index: 1614 entries, 0 to 1613\n",
      "Data columns (total 14 columns):\n",
      " #   Column              Non-Null Count  Dtype  \n",
      "---  ------              --------------  -----  \n",
      " 0   book_title          1614 non-null   object \n",
      " 1   author_name_x       1614 non-null   object \n",
      " 2   avg_rating_x        1614 non-null   float64\n",
      " 3   rating_count_x      1614 non-null   int64  \n",
      " 4   review_count        1614 non-null   int64  \n",
      " 5   format              1568 non-null   object \n",
      " 6   number_of_page      1313 non-null   float64\n",
      " 7   language            815 non-null    object \n",
      " 8   ISBN                1614 non-null   object \n",
      " 9   publish year        887 non-null    object \n",
      " 10  edition             1614 non-null   object \n",
      " 11  link                1614 non-null   object \n",
      " 12  first_publish_year  887 non-null    Int64  \n",
      " 13  editions            1614 non-null   int64  \n",
      "dtypes: Int64(1), float64(2), int64(3), object(8)\n",
      "memory usage: 190.7+ KB\n"
     ]
    }
   ],
   "source": [
    "total_df.info()"
   ]
  },
  {
   "cell_type": "code",
   "execution_count": 44,
   "metadata": {},
   "outputs": [
    {
     "name": "stdout",
     "output_type": "stream",
     "text": [
      "<class 'pandas.core.frame.DataFrame'>\n",
      "Int64Index: 1614 entries, 0 to 1613\n",
      "Data columns (total 14 columns):\n",
      " #   Column              Non-Null Count  Dtype  \n",
      "---  ------              --------------  -----  \n",
      " 0   book_title          1614 non-null   object \n",
      " 1   author_name_x       1614 non-null   object \n",
      " 2   avg_rating_x        1614 non-null   float64\n",
      " 3   rating_count_x      1614 non-null   int64  \n",
      " 4   review_count        1614 non-null   int64  \n",
      " 5   format              1568 non-null   object \n",
      " 6   number_of_page      1313 non-null   float64\n",
      " 7   language            815 non-null    object \n",
      " 8   ISBN                1614 non-null   object \n",
      " 9   publish year        887 non-null    object \n",
      " 10  edition             1614 non-null   object \n",
      " 11  link                1614 non-null   object \n",
      " 12  first_publish_year  887 non-null    Int64  \n",
      " 13  editions            1614 non-null   int64  \n",
      "dtypes: Int64(1), float64(2), int64(3), object(8)\n",
      "memory usage: 190.7+ KB\n"
     ]
    }
   ],
   "source": [
    "total_df.info()"
   ]
  },
  {
   "cell_type": "code",
   "execution_count": 45,
   "metadata": {},
   "outputs": [],
   "source": [
    "total_df = total_df.drop(columns=['edition','publish year'])"
   ]
  },
  {
   "cell_type": "code",
   "execution_count": 46,
   "metadata": {},
   "outputs": [],
   "source": [
    "total_df = total_df.rename(columns={'author_name_x': 'author',\n",
    "                              'avg_rating_x': 'average_rating',\n",
    "                              'rating_count_x':'rating_count'})\n"
   ]
  },
  {
   "cell_type": "code",
   "execution_count": 47,
   "metadata": {},
   "outputs": [
    {
     "name": "stdout",
     "output_type": "stream",
     "text": [
      "<class 'pandas.core.frame.DataFrame'>\n",
      "Int64Index: 1614 entries, 0 to 1613\n",
      "Data columns (total 12 columns):\n",
      " #   Column              Non-Null Count  Dtype  \n",
      "---  ------              --------------  -----  \n",
      " 0   book_title          1614 non-null   object \n",
      " 1   author              1614 non-null   object \n",
      " 2   average_rating      1614 non-null   float64\n",
      " 3   rating_count        1614 non-null   int64  \n",
      " 4   review_count        1614 non-null   int64  \n",
      " 5   format              1568 non-null   object \n",
      " 6   number_of_page      1313 non-null   float64\n",
      " 7   language            815 non-null    object \n",
      " 8   ISBN                1614 non-null   object \n",
      " 9   link                1614 non-null   object \n",
      " 10  first_publish_year  887 non-null    Int64  \n",
      " 11  editions            1614 non-null   int64  \n",
      "dtypes: Int64(1), float64(2), int64(3), object(6)\n",
      "memory usage: 165.5+ KB\n"
     ]
    }
   ],
   "source": [
    "total_df.info()"
   ]
  },
  {
   "cell_type": "code",
   "execution_count": 53,
   "metadata": {},
   "outputs": [
    {
     "data": {
      "text/html": [
       "<div>\n",
       "<style scoped>\n",
       "    .dataframe tbody tr th:only-of-type {\n",
       "        vertical-align: middle;\n",
       "    }\n",
       "\n",
       "    .dataframe tbody tr th {\n",
       "        vertical-align: top;\n",
       "    }\n",
       "\n",
       "    .dataframe thead th {\n",
       "        text-align: right;\n",
       "    }\n",
       "</style>\n",
       "<table border=\"1\" class=\"dataframe\">\n",
       "  <thead>\n",
       "    <tr style=\"text-align: right;\">\n",
       "      <th></th>\n",
       "      <th>book_title</th>\n",
       "      <th>author</th>\n",
       "      <th>average_rating</th>\n",
       "      <th>rating_count</th>\n",
       "      <th>review_count</th>\n",
       "      <th>number_of_page</th>\n",
       "      <th>first_publish_year</th>\n",
       "      <th>editions</th>\n",
       "      <th>format</th>\n",
       "      <th>language</th>\n",
       "      <th>ISBN</th>\n",
       "      <th>link</th>\n",
       "    </tr>\n",
       "  </thead>\n",
       "  <tbody>\n",
       "    <tr>\n",
       "      <th>0</th>\n",
       "      <td>Computer Science: An Overview</td>\n",
       "      <td>J. Glenn Brookshear</td>\n",
       "      <td>3.76</td>\n",
       "      <td>310</td>\n",
       "      <td>22</td>\n",
       "      <td>599</td>\n",
       "      <td>1985</td>\n",
       "      <td>35</td>\n",
       "      <td>Paperback</td>\n",
       "      <td>English</td>\n",
       "      <td>ISBN0321387015(ISBN13:9780321387011)</td>\n",
       "      <td>https://www.goodreads.com/book/show/533070.Com...</td>\n",
       "    </tr>\n",
       "    <tr>\n",
       "      <th>1</th>\n",
       "      <td>Multiple Choice Questions in Computer Science</td>\n",
       "      <td>Ela Kumar</td>\n",
       "      <td>3.62</td>\n",
       "      <td>66</td>\n",
       "      <td>9</td>\n",
       "      <td>472</td>\n",
       "      <td>2008</td>\n",
       "      <td>1</td>\n",
       "      <td>Paperback</td>\n",
       "      <td>None</td>\n",
       "      <td>ISBN819067577X(ISBN13:9788190675772)</td>\n",
       "      <td>https://www.goodreads.com/book/show/8266079-mu...</td>\n",
       "    </tr>\n",
       "    <tr>\n",
       "      <th>2</th>\n",
       "      <td>Cambridge International as and a Level Compute...</td>\n",
       "      <td>Tony Piper</td>\n",
       "      <td>4.29</td>\n",
       "      <td>41</td>\n",
       "      <td>4</td>\n",
       "      <td>328</td>\n",
       "      <td>&lt;NA&gt;</td>\n",
       "      <td>1</td>\n",
       "      <td>Paperback</td>\n",
       "      <td>None</td>\n",
       "      <td>ISBN1107547547(ISBN13:9781107547544)</td>\n",
       "      <td>https://www.goodreads.com/book/show/28131102-c...</td>\n",
       "    </tr>\n",
       "    <tr>\n",
       "      <th>3</th>\n",
       "      <td>Algorithms on Strings, Trees and Sequences: Co...</td>\n",
       "      <td>Dan Gusfield</td>\n",
       "      <td>4.09</td>\n",
       "      <td>85</td>\n",
       "      <td>4</td>\n",
       "      <td>556</td>\n",
       "      <td>1997</td>\n",
       "      <td>4</td>\n",
       "      <td>Hardcover</td>\n",
       "      <td>English</td>\n",
       "      <td>ISBN0521585198(ISBN13:9780521585194)</td>\n",
       "      <td>https://www.goodreads.com/book/show/145058.Alg...</td>\n",
       "    </tr>\n",
       "    <tr>\n",
       "      <th>4</th>\n",
       "      <td>Coding the Matrix: Linear Algebra through Comp...</td>\n",
       "      <td>Philip N. Klein</td>\n",
       "      <td>4.23</td>\n",
       "      <td>115</td>\n",
       "      <td>5</td>\n",
       "      <td>528</td>\n",
       "      <td>2013</td>\n",
       "      <td>2</td>\n",
       "      <td>Paperback</td>\n",
       "      <td>English</td>\n",
       "      <td>ISBN061585673X(ISBN13:9780615856735)</td>\n",
       "      <td>https://www.goodreads.com/book/show/18245828-c...</td>\n",
       "    </tr>\n",
       "  </tbody>\n",
       "</table>\n",
       "</div>"
      ],
      "text/plain": [
       "                                          book_title               author  \\\n",
       "0                      Computer Science: An Overview  J. Glenn Brookshear   \n",
       "1      Multiple Choice Questions in Computer Science            Ela Kumar   \n",
       "2  Cambridge International as and a Level Compute...           Tony Piper   \n",
       "3  Algorithms on Strings, Trees and Sequences: Co...         Dan Gusfield   \n",
       "4  Coding the Matrix: Linear Algebra through Comp...      Philip N. Klein   \n",
       "\n",
       "   average_rating  rating_count  review_count  number_of_page  \\\n",
       "0            3.76           310            22             599   \n",
       "1            3.62            66             9             472   \n",
       "2            4.29            41             4             328   \n",
       "3            4.09            85             4             556   \n",
       "4            4.23           115             5             528   \n",
       "\n",
       "   first_publish_year  editions     format language  \\\n",
       "0                1985        35  Paperback  English   \n",
       "1                2008         1  Paperback     None   \n",
       "2                <NA>         1  Paperback     None   \n",
       "3                1997         4  Hardcover  English   \n",
       "4                2013         2  Paperback  English   \n",
       "\n",
       "                                   ISBN  \\\n",
       "0  ISBN0321387015(ISBN13:9780321387011)   \n",
       "1  ISBN819067577X(ISBN13:9788190675772)   \n",
       "2  ISBN1107547547(ISBN13:9781107547544)   \n",
       "3  ISBN0521585198(ISBN13:9780521585194)   \n",
       "4  ISBN061585673X(ISBN13:9780615856735)   \n",
       "\n",
       "                                                link  \n",
       "0  https://www.goodreads.com/book/show/533070.Com...  \n",
       "1  https://www.goodreads.com/book/show/8266079-mu...  \n",
       "2  https://www.goodreads.com/book/show/28131102-c...  \n",
       "3  https://www.goodreads.com/book/show/145058.Alg...  \n",
       "4  https://www.goodreads.com/book/show/18245828-c...  "
      ]
     },
     "execution_count": 53,
     "metadata": {},
     "output_type": "execute_result"
    }
   ],
   "source": [
    "total_df['number_of_page'] = total_df.number_of_page.astype('Int64')\n",
    "column_names = ['book_title','author','average_rating','rating_count','review_count', 'number_of_page',\n",
    "                'first_publish_year','editions','format', 'language','ISBN','link']\n",
    "total_df = total_df.reindex(columns=column_names)\n",
    "total_df.head()"
   ]
  },
  {
   "cell_type": "code",
   "execution_count": 55,
   "metadata": {},
   "outputs": [
    {
     "data": {
      "text/plain": [
       "(1614, 12)"
      ]
     },
     "execution_count": 55,
     "metadata": {},
     "output_type": "execute_result"
    }
   ],
   "source": [
    "total_df.shape"
   ]
  },
  {
   "cell_type": "code",
   "execution_count": 184,
   "metadata": {},
   "outputs": [
    {
     "data": {
      "text/html": [
       "<div>\n",
       "<style scoped>\n",
       "    .dataframe tbody tr th:only-of-type {\n",
       "        vertical-align: middle;\n",
       "    }\n",
       "\n",
       "    .dataframe tbody tr th {\n",
       "        vertical-align: top;\n",
       "    }\n",
       "\n",
       "    .dataframe thead th {\n",
       "        text-align: right;\n",
       "    }\n",
       "</style>\n",
       "<table border=\"1\" class=\"dataframe\">\n",
       "  <thead>\n",
       "    <tr style=\"text-align: right;\">\n",
       "      <th></th>\n",
       "      <th>average_rating</th>\n",
       "      <th>rating_count</th>\n",
       "      <th>review_count</th>\n",
       "      <th>number_of_page</th>\n",
       "      <th>first_publish_year</th>\n",
       "      <th>editions</th>\n",
       "    </tr>\n",
       "  </thead>\n",
       "  <tbody>\n",
       "    <tr>\n",
       "      <th>count</th>\n",
       "      <td>1614.000000</td>\n",
       "      <td>1614.000000</td>\n",
       "      <td>1614.000000</td>\n",
       "      <td>1313.000000</td>\n",
       "      <td>887.000000</td>\n",
       "      <td>1614.000000</td>\n",
       "    </tr>\n",
       "    <tr>\n",
       "      <th>mean</th>\n",
       "      <td>2.050638</td>\n",
       "      <td>10.614002</td>\n",
       "      <td>1.005576</td>\n",
       "      <td>406.085301</td>\n",
       "      <td>2000.298760</td>\n",
       "      <td>1.919455</td>\n",
       "    </tr>\n",
       "    <tr>\n",
       "      <th>std</th>\n",
       "      <td>2.027315</td>\n",
       "      <td>62.473933</td>\n",
       "      <td>7.969523</td>\n",
       "      <td>317.293536</td>\n",
       "      <td>13.650996</td>\n",
       "      <td>2.746528</td>\n",
       "    </tr>\n",
       "    <tr>\n",
       "      <th>min</th>\n",
       "      <td>0.000000</td>\n",
       "      <td>0.000000</td>\n",
       "      <td>0.000000</td>\n",
       "      <td>0.000000</td>\n",
       "      <td>1753.000000</td>\n",
       "      <td>1.000000</td>\n",
       "    </tr>\n",
       "    <tr>\n",
       "      <th>25%</th>\n",
       "      <td>0.000000</td>\n",
       "      <td>0.000000</td>\n",
       "      <td>0.000000</td>\n",
       "      <td>198.000000</td>\n",
       "      <td>1994.000000</td>\n",
       "      <td>1.000000</td>\n",
       "    </tr>\n",
       "    <tr>\n",
       "      <th>50%</th>\n",
       "      <td>2.165000</td>\n",
       "      <td>1.000000</td>\n",
       "      <td>0.000000</td>\n",
       "      <td>351.000000</td>\n",
       "      <td>2002.000000</td>\n",
       "      <td>1.000000</td>\n",
       "    </tr>\n",
       "    <tr>\n",
       "      <th>75%</th>\n",
       "      <td>4.000000</td>\n",
       "      <td>2.000000</td>\n",
       "      <td>0.000000</td>\n",
       "      <td>528.000000</td>\n",
       "      <td>2009.000000</td>\n",
       "      <td>2.000000</td>\n",
       "    </tr>\n",
       "    <tr>\n",
       "      <th>max</th>\n",
       "      <td>5.000000</td>\n",
       "      <td>965.000000</td>\n",
       "      <td>198.000000</td>\n",
       "      <td>3348.000000</td>\n",
       "      <td>2017.000000</td>\n",
       "      <td>50.000000</td>\n",
       "    </tr>\n",
       "  </tbody>\n",
       "</table>\n",
       "</div>"
      ],
      "text/plain": [
       "       average_rating  rating_count  review_count  number_of_page  \\\n",
       "count     1614.000000   1614.000000   1614.000000     1313.000000   \n",
       "mean         2.050638     10.614002      1.005576      406.085301   \n",
       "std          2.027315     62.473933      7.969523      317.293536   \n",
       "min          0.000000      0.000000      0.000000        0.000000   \n",
       "25%          0.000000      0.000000      0.000000      198.000000   \n",
       "50%          2.165000      1.000000      0.000000      351.000000   \n",
       "75%          4.000000      2.000000      0.000000      528.000000   \n",
       "max          5.000000    965.000000    198.000000     3348.000000   \n",
       "\n",
       "       first_publish_year     editions  \n",
       "count          887.000000  1614.000000  \n",
       "mean          2000.298760     1.919455  \n",
       "std             13.650996     2.746528  \n",
       "min           1753.000000     1.000000  \n",
       "25%           1994.000000     1.000000  \n",
       "50%           2002.000000     1.000000  \n",
       "75%           2009.000000     2.000000  \n",
       "max           2017.000000    50.000000  "
      ]
     },
     "execution_count": 184,
     "metadata": {},
     "output_type": "execute_result"
    }
   ],
   "source": [
    "# total_df.to_csv('total_df.csv', index = False)\n",
    "total_df.describe()"
   ]
  },
  {
   "cell_type": "code",
   "execution_count": 59,
   "metadata": {},
   "outputs": [
    {
     "data": {
      "image/png": "[encoded data removed]",
      "text/plain": [
       "<Figure size 1440x720 with 6 Axes>"
      ]
     },
     "metadata": {},
     "output_type": "display_data"
    }
   ],
   "source": [
    "total_df.hist(figsize=(20,10), grid=False)\n",
    "plt.tight_layout()"
   ]
  },
  {
   "cell_type": "code",
   "execution_count": 67,
   "metadata": {},
   "outputs": [
    {
     "name": "stdout",
     "output_type": "stream",
     "text": [
      "[   1.            1.33352143    1.77827941    2.37137371    3.16227766\n",
      "    4.21696503    5.62341325    7.49894209   10.           13.33521432\n",
      "   17.7827941    23.71373706   31.6227766    42.16965034   56.23413252\n",
      "   74.98942093  100.          133.35214322  177.827941    237.13737057\n",
      "  316.22776602  421.69650343  562.34132519  749.89420933 1000.        ]\n"
     ]
    },
    {
     "data": {
      "image/png": "[encoded data removed]",
      "text/plain": [
       "<Figure size 432x288 with 1 Axes>"
      ]
     },
     "metadata": {},
     "output_type": "display_data"
    }
   ],
   "source": [
    "bins = np.logspace(0,3,25)\n",
    "fix, ax = plt.subplots()\n",
    "ax.hist(total_df['review_count'], bins=bins)\n",
    "ax.set_xscale('log')\n",
    "print(bins)"
   ]
  },
  {
   "cell_type": "code",
   "execution_count": 69,
   "metadata": {},
   "outputs": [
    {
     "data": {
      "text/plain": [
       "406.08530083777606"
      ]
     },
     "execution_count": 69,
     "metadata": {},
     "output_type": "execute_result"
    }
   ],
   "source": [
    "np.mean(total_df['number_of_page'])"
   ]
  },
  {
   "cell_type": "code",
   "execution_count": 120,
   "metadata": {},
   "outputs": [],
   "source": [
    "greater = total_df[total_df['number_of_page'] >= np.mean(total_df['number_of_page'])]"
   ]
  },
  {
   "cell_type": "code",
   "execution_count": 121,
   "metadata": {},
   "outputs": [],
   "source": [
    "less = total_df[total_df['number_of_page'] < np.mean(total_df['number_of_page'])]"
   ]
  },
  {
   "cell_type": "code",
   "execution_count": 122,
   "metadata": {},
   "outputs": [
    {
     "data": {
      "image/png": "[encoded data removed]",
      "text/plain": [
       "<Figure size 1440x720 with 6 Axes>"
      ]
     },
     "metadata": {},
     "output_type": "display_data"
    }
   ],
   "source": [
    "greater.hist(figsize=(20,10), grid=False);"
   ]
  },
  {
   "cell_type": "code",
   "execution_count": 124,
   "metadata": {},
   "outputs": [
    {
     "name": "stdout",
     "output_type": "stream",
     "text": [
      "total row after split: 531\n",
      "total row after clean average rating 299\n",
      "3.8987290969899657\n"
     ]
    }
   ],
   "source": [
    "print('total row after split: ' + str(len(greater)))\n",
    "greater_avg_rating = greater.loc[~(greater['average_rating'] == 0)]\n",
    "print('total row after clean average rating ' + str(len(greater_avg_rating)))\n",
    "print(np.mean(greater_avg_rating['average_rating']))"
   ]
  },
  {
   "cell_type": "code",
   "execution_count": 88,
   "metadata": {},
   "outputs": [
    {
     "data": {
      "image/png": "[encoded data removed]",
      "text/plain": [
       "<Figure size 1440x720 with 6 Axes>"
      ]
     },
     "metadata": {},
     "output_type": "display_data"
    }
   ],
   "source": [
    "less.hist(figsize=(20,10), grid=False);"
   ]
  },
  {
   "cell_type": "code",
   "execution_count": 127,
   "metadata": {},
   "outputs": [
    {
     "name": "stdout",
     "output_type": "stream",
     "text": [
      "total row after split: 782\n",
      "total row after clean average rating 407\n",
      "3.821130221130222\n"
     ]
    }
   ],
   "source": [
    "print('total row after split: ' + str(len(less)))\n",
    "less_avg_rating = less.loc[~(less['average_rating'] == 0)]\n",
    "print('total row after clean average rating ' + str(len(less_avg_rating)))\n",
    "print(np.mean(less_avg_rating['average_rating']))"
   ]
  },
  {
   "cell_type": "code",
   "execution_count": 154,
   "metadata": {},
   "outputs": [
    {
     "name": "stdout",
     "output_type": "stream",
     "text": [
      "average rating t-test: 1.219715111325505 p-value: 0.22300122216112636\n"
     ]
    }
   ],
   "source": [
    "stat, p_val = stats.ttest_ind(greater_avg_rating['average_rating'],less_avg_rating['average_rating'], equal_var=False)\n",
    "print('average rating t-test: ' + str(stat) + ' p-value: ' + str(p_val))"
   ]
  },
  {
   "cell_type": "code",
   "execution_count": 181,
   "metadata": {
    "scrolled": true
   },
   "outputs": [
    {
     "data": {
      "image/png": "[encoded data removed]",
      "text/plain": [
       "<Figure size 432x288 with 1 Axes>"
      ]
     },
     "metadata": {},
     "output_type": "display_data"
    }
   ],
   "source": [
    "fig, ax = plt.subplots()\n",
    "ax.hist(greater['number_of_page'],alpha=0.5);\n",
    "ax.hist(less['number_of_page'], alpha=0.5);"
   ]
  },
  {
   "cell_type": "code",
   "execution_count": 132,
   "metadata": {},
   "outputs": [
    {
     "name": "stdout",
     "output_type": "stream",
     "text": [
      "total row after split: 531\n",
      "total row after clean rating count 299\n",
      "27.535117056856187\n"
     ]
    }
   ],
   "source": [
    "print('total row after split: ' + str(len(greater)))\n",
    "greater_rating_count = greater.loc[~(greater['rating_count'] == 0)]\n",
    "print('total row after clean rating count ' + str(len(greater_rating_count)))\n",
    "print(np.mean(greater_rating_count['rating_count']))"
   ]
  },
  {
   "cell_type": "code",
   "execution_count": 135,
   "metadata": {},
   "outputs": [
    {
     "name": "stdout",
     "output_type": "stream",
     "text": [
      "total row after split: 782\n",
      "total row after clean rating count 407\n",
      "12.658476658476658\n"
     ]
    }
   ],
   "source": [
    "print('total row after split: ' + str(len(less)))\n",
    "less_rating_count = less.loc[~(less['rating_count'] == 0)]\n",
    "print('total row after clean rating count ' + str(len(less_rating_count)))\n",
    "print(np.mean(less_rating_count['rating_count']))"
   ]
  },
  {
   "cell_type": "code",
   "execution_count": 155,
   "metadata": {},
   "outputs": [
    {
     "name": "stdout",
     "output_type": "stream",
     "text": [
      "rating_count t-test: 2.4409249337417505 p-value: 0.014972240815203488\n"
     ]
    }
   ],
   "source": [
    "stat, p_val = stats.ttest_ind(greater_rating_count['rating_count'],less_rating_count['rating_count'], equal_var=False)\n",
    "print('rating_count t-test: ' + str(stat) + ' p-value: ' + str(p_val))\n",
    "\n",
    "# books with more pages tend to be rated more often"
   ]
  },
  {
   "cell_type": "code",
   "execution_count": 140,
   "metadata": {},
   "outputs": [
    {
     "name": "stdout",
     "output_type": "stream",
     "text": [
      "total row after split: 531\n",
      "total row after clean review count 93\n",
      "5.806451612903226\n"
     ]
    }
   ],
   "source": [
    "print('total row after split: ' + str(len(greater)))\n",
    "greater_review_count = greater.loc[~(greater['review_count'] == 0)]\n",
    "print('total row after clean review count ' + str(len(greater_review_count)))\n",
    "print(np.mean(greater_review_count['review_count']))"
   ]
  },
  {
   "cell_type": "code",
   "execution_count": 141,
   "metadata": {},
   "outputs": [
    {
     "name": "stdout",
     "output_type": "stream",
     "text": [
      "total row after split: 782\n",
      "total row after clean review count 107\n",
      "4.579439252336448\n"
     ]
    }
   ],
   "source": [
    "print('total row after split: ' + str(len(less)))\n",
    "less_review_count = less.loc[~(less['review_count'] == 0)]\n",
    "print('total row after clean review count ' + str(len(less_review_count)))\n",
    "print(np.mean(less_review_count['review_count']))"
   ]
  },
  {
   "cell_type": "code",
   "execution_count": 156,
   "metadata": {},
   "outputs": [
    {
     "name": "stdout",
     "output_type": "stream",
     "text": [
      "review_count t-test: 0.7394040422987039 p-value: 0.46069178770686625\n"
     ]
    }
   ],
   "source": [
    "stat, p_val = stats.ttest_ind(greater_review_count['review_count'],less_review_count['review_count'], equal_var=False)\n",
    "print('review_count t-test: ' + str(stat) + ' p-value: ' + str(p_val))"
   ]
  },
  {
   "cell_type": "code",
   "execution_count": 143,
   "metadata": {},
   "outputs": [
    {
     "name": "stdout",
     "output_type": "stream",
     "text": [
      "total row after split: 531\n",
      "total row after clean editions 531\n",
      "2.169491525423729\n"
     ]
    }
   ],
   "source": [
    "print('total row after split: ' + str(len(greater)))\n",
    "greater_editions = greater.loc[~(greater['editions'] == 0)]\n",
    "print('total row after clean editions ' + str(len(greater_editions)))\n",
    "print(np.mean(greater_editions['editions']))"
   ]
  },
  {
   "cell_type": "code",
   "execution_count": 145,
   "metadata": {},
   "outputs": [
    {
     "name": "stdout",
     "output_type": "stream",
     "text": [
      "total row after split: 782\n",
      "total row after clean editions 782\n",
      "1.9335038363171355\n"
     ]
    }
   ],
   "source": [
    "print('total row after split: ' + str(len(less)))\n",
    "less_editions = less.loc[~(less['editions'] == 0)]\n",
    "print('total row after clean editions ' + str(len(less_editions)))\n",
    "print(np.mean(less_editions['editions']))"
   ]
  },
  {
   "cell_type": "code",
   "execution_count": 157,
   "metadata": {},
   "outputs": [
    {
     "name": "stdout",
     "output_type": "stream",
     "text": [
      "editions: 1.456642322656463 p-value: 0.14545503328603518\n"
     ]
    }
   ],
   "source": [
    "stat, p_val = stats.ttest_ind(greater_editions['review_count'],less_editions['review_count'], equal_var=False)\n",
    "print('editions: ' + str(stat) + ' p-value: ' + str(p_val))"
   ]
  },
  {
   "cell_type": "code",
   "execution_count": 183,
   "metadata": {},
   "outputs": [
    {
     "name": "stdout",
     "output_type": "stream",
     "text": [
      "p-value for P(greater > less) = 0.5: 0.188\n"
     ]
    }
   ],
   "source": [
    "#res = stats.mannwhitneyu(greater_avg_rating['average_rating'], less_avg_rating['average_rating'], alternative=\"greater\")\n",
    "#print(\"p-value fo.r P(greater > less) = 0.5: {:2.3f}\".format(res.pvalue))"
   ]
  },
  {
   "cell_type": "code",
   "execution_count": null,
   "metadata": {},
   "outputs": [],
   "source": []
  }
 ],
 "metadata": {
  "kernelspec": {
   "display_name": "Python 3.6.8 64-bit ('base': conda)",
   "language": "python",
   "name": "python36864bitbaseconda8143bf76a2004fda854d7e537f0cc215"
  },
  "language_info": {
   "codemirror_mode": {
    "name": "ipython",
    "version": 3
   },
   "file_extension": ".py",
   "mimetype": "text/x-python",
   "name": "python",
   "nbconvert_exporter": "python",
   "pygments_lexer": "ipython3",
   "version": "3.7.7"
  }
 },
 "nbformat": 4,
 "nbformat_minor": 4
}
